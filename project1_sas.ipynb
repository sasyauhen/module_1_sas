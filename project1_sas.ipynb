{
 "cells": [
  {
   "cell_type": "code",
   "execution_count": 40,
   "metadata": {
    "_cell_guid": "b1076dfc-b9ad-4769-8c92-a6c4dae69d19",
    "_uuid": "8f2839f25d086af736a60e9eeb907d3b93b6e0e5",
    "colab": {},
    "colab_type": "code",
    "id": "U2D2gTdJVp90"
   },
   "outputs": [],
   "source": [
    "import numpy as np\n",
    "import pandas as pd\n",
    "import seaborn as sns\n",
    "import matplotlib.pyplot as plt\n",
    "from collections import Counter"
   ]
  },
  {
   "cell_type": "code",
   "execution_count": 41,
   "metadata": {
    "_cell_guid": "79c7e3d0-c299-4dcb-8224-4455121ee9b0",
    "_uuid": "d629ff2d2480ee46fbb7e2d37f6b5fab8052498a",
    "colab": {},
    "colab_type": "code",
    "id": "oyGfxL3eVp9-"
   },
   "outputs": [
    {
     "data": {
      "text/html": [
       "<div>\n",
       "<style scoped>\n",
       "    .dataframe tbody tr th:only-of-type {\n",
       "        vertical-align: middle;\n",
       "    }\n",
       "\n",
       "    .dataframe tbody tr th {\n",
       "        vertical-align: top;\n",
       "    }\n",
       "\n",
       "    .dataframe thead th {\n",
       "        text-align: right;\n",
       "    }\n",
       "</style>\n",
       "<table border=\"1\" class=\"dataframe\">\n",
       "  <thead>\n",
       "    <tr style=\"text-align: right;\">\n",
       "      <th></th>\n",
       "      <th>imdb_id</th>\n",
       "      <th>budget</th>\n",
       "      <th>revenue</th>\n",
       "      <th>original_title</th>\n",
       "      <th>cast</th>\n",
       "      <th>director</th>\n",
       "      <th>tagline</th>\n",
       "      <th>overview</th>\n",
       "      <th>runtime</th>\n",
       "      <th>genres</th>\n",
       "      <th>production_companies</th>\n",
       "      <th>release_date</th>\n",
       "      <th>vote_average</th>\n",
       "      <th>release_year</th>\n",
       "    </tr>\n",
       "  </thead>\n",
       "  <tbody>\n",
       "    <tr>\n",
       "      <th>835</th>\n",
       "      <td>tt1034389</td>\n",
       "      <td>25000000</td>\n",
       "      <td>27122040</td>\n",
       "      <td>The Eagle</td>\n",
       "      <td>Channing Tatum|Mark Strong|Jamie Bell|Donald S...</td>\n",
       "      <td>Kevin Macdonald</td>\n",
       "      <td>The destiny of a soldier. The honour of a slav...</td>\n",
       "      <td>In 140 AD, twenty years after the unexplained ...</td>\n",
       "      <td>114</td>\n",
       "      <td>Adventure|Drama</td>\n",
       "      <td>Toledo Productions|Film4|Focus Features|Prime ...</td>\n",
       "      <td>2/8/2011</td>\n",
       "      <td>5.9</td>\n",
       "      <td>2011</td>\n",
       "    </tr>\n",
       "    <tr>\n",
       "      <th>27</th>\n",
       "      <td>tt2802144</td>\n",
       "      <td>81000000</td>\n",
       "      <td>403802136</td>\n",
       "      <td>Kingsman: The Secret Service</td>\n",
       "      <td>Taron Egerton|Colin Firth|Samuel L. Jackson|Mi...</td>\n",
       "      <td>Matthew Vaughn</td>\n",
       "      <td>Manners maketh man.</td>\n",
       "      <td>The story of a super-secret spy organization t...</td>\n",
       "      <td>130</td>\n",
       "      <td>Crime|Comedy|Action|Adventure</td>\n",
       "      <td>Twentieth Century Fox Film Corporation|Marv Fi...</td>\n",
       "      <td>1/24/2015</td>\n",
       "      <td>7.6</td>\n",
       "      <td>2015</td>\n",
       "    </tr>\n",
       "    <tr>\n",
       "      <th>912</th>\n",
       "      <td>tt0120679</td>\n",
       "      <td>12000000</td>\n",
       "      <td>56298474</td>\n",
       "      <td>Frida</td>\n",
       "      <td>Salma Hayek|Alfred Molina|MÃ­a Maestro|Patrici...</td>\n",
       "      <td>Julie Taymor</td>\n",
       "      <td>Prepare to be seduced</td>\n",
       "      <td>\"Frida\" chronicles the life Frida Kahlo shared...</td>\n",
       "      <td>123</td>\n",
       "      <td>Drama|Romance</td>\n",
       "      <td>Miramax Films|Lions Gate Films|Ventanarosa Pro...</td>\n",
       "      <td>8/29/2002</td>\n",
       "      <td>7.3</td>\n",
       "      <td>2002</td>\n",
       "    </tr>\n",
       "    <tr>\n",
       "      <th>1022</th>\n",
       "      <td>tt1591479</td>\n",
       "      <td>12000000</td>\n",
       "      <td>81272766</td>\n",
       "      <td>Act of Valor</td>\n",
       "      <td>Roselyn SÃ¡nchez|Emilio Rivera|Nestor Serrano|...</td>\n",
       "      <td>Mike McCoy|Scott Waugh</td>\n",
       "      <td>The only easy day was yesterday</td>\n",
       "      <td>When a covert mission to rescue a kidnapped CI...</td>\n",
       "      <td>110</td>\n",
       "      <td>Action|Thriller|War</td>\n",
       "      <td>Relativity Media|Bandito Brothers</td>\n",
       "      <td>2/24/2012</td>\n",
       "      <td>6.3</td>\n",
       "      <td>2012</td>\n",
       "    </tr>\n",
       "    <tr>\n",
       "      <th>451</th>\n",
       "      <td>tt1322312</td>\n",
       "      <td>32000000</td>\n",
       "      <td>42045846</td>\n",
       "      <td>Going the Distance</td>\n",
       "      <td>Drew Barrymore|Justin Long|Christina Applegate...</td>\n",
       "      <td>Nanette Burstein</td>\n",
       "      <td>A comedy about meeting each other halfway.</td>\n",
       "      <td>Erin and Garrett are very much in love. When E...</td>\n",
       "      <td>102</td>\n",
       "      <td>Comedy|Drama|Romance</td>\n",
       "      <td>New Line Cinema|Offspring Entertainment</td>\n",
       "      <td>9/1/2010</td>\n",
       "      <td>6.0</td>\n",
       "      <td>2010</td>\n",
       "    </tr>\n",
       "  </tbody>\n",
       "</table>\n",
       "</div>"
      ],
      "text/plain": [
       "        imdb_id    budget    revenue                original_title  \\\n",
       "835   tt1034389  25000000   27122040                     The Eagle   \n",
       "27    tt2802144  81000000  403802136  Kingsman: The Secret Service   \n",
       "912   tt0120679  12000000   56298474                         Frida   \n",
       "1022  tt1591479  12000000   81272766                  Act of Valor   \n",
       "451   tt1322312  32000000   42045846            Going the Distance   \n",
       "\n",
       "                                                   cast  \\\n",
       "835   Channing Tatum|Mark Strong|Jamie Bell|Donald S...   \n",
       "27    Taron Egerton|Colin Firth|Samuel L. Jackson|Mi...   \n",
       "912   Salma Hayek|Alfred Molina|MÃ­a Maestro|Patrici...   \n",
       "1022  Roselyn SÃ¡nchez|Emilio Rivera|Nestor Serrano|...   \n",
       "451   Drew Barrymore|Justin Long|Christina Applegate...   \n",
       "\n",
       "                    director  \\\n",
       "835          Kevin Macdonald   \n",
       "27            Matthew Vaughn   \n",
       "912             Julie Taymor   \n",
       "1022  Mike McCoy|Scott Waugh   \n",
       "451         Nanette Burstein   \n",
       "\n",
       "                                                tagline  \\\n",
       "835   The destiny of a soldier. The honour of a slav...   \n",
       "27                                  Manners maketh man.   \n",
       "912                               Prepare to be seduced   \n",
       "1022                    The only easy day was yesterday   \n",
       "451          A comedy about meeting each other halfway.   \n",
       "\n",
       "                                               overview  runtime  \\\n",
       "835   In 140 AD, twenty years after the unexplained ...      114   \n",
       "27    The story of a super-secret spy organization t...      130   \n",
       "912   \"Frida\" chronicles the life Frida Kahlo shared...      123   \n",
       "1022  When a covert mission to rescue a kidnapped CI...      110   \n",
       "451   Erin and Garrett are very much in love. When E...      102   \n",
       "\n",
       "                             genres  \\\n",
       "835                 Adventure|Drama   \n",
       "27    Crime|Comedy|Action|Adventure   \n",
       "912                   Drama|Romance   \n",
       "1022            Action|Thriller|War   \n",
       "451            Comedy|Drama|Romance   \n",
       "\n",
       "                                   production_companies release_date  \\\n",
       "835   Toledo Productions|Film4|Focus Features|Prime ...     2/8/2011   \n",
       "27    Twentieth Century Fox Film Corporation|Marv Fi...    1/24/2015   \n",
       "912   Miramax Films|Lions Gate Films|Ventanarosa Pro...    8/29/2002   \n",
       "1022                  Relativity Media|Bandito Brothers    2/24/2012   \n",
       "451             New Line Cinema|Offspring Entertainment     9/1/2010   \n",
       "\n",
       "      vote_average  release_year  \n",
       "835            5.9          2011  \n",
       "27             7.6          2015  \n",
       "912            7.3          2002  \n",
       "1022           6.3          2012  \n",
       "451            6.0          2010  "
      ]
     },
     "execution_count": 41,
     "metadata": {},
     "output_type": "execute_result"
    }
   ],
   "source": [
    "data = pd.read_csv('movie_bd_v5.csv')\n",
    "data.sample(5)"
   ]
  },
  {
   "cell_type": "code",
   "execution_count": 75,
   "metadata": {
    "colab": {},
    "colab_type": "code",
    "id": "CoYUnagMVp-C"
   },
   "outputs": [
    {
     "data": {
      "text/html": [
       "<div>\n",
       "<style scoped>\n",
       "    .dataframe tbody tr th:only-of-type {\n",
       "        vertical-align: middle;\n",
       "    }\n",
       "\n",
       "    .dataframe tbody tr th {\n",
       "        vertical-align: top;\n",
       "    }\n",
       "\n",
       "    .dataframe thead th {\n",
       "        text-align: right;\n",
       "    }\n",
       "</style>\n",
       "<table border=\"1\" class=\"dataframe\">\n",
       "  <thead>\n",
       "    <tr style=\"text-align: right;\">\n",
       "      <th></th>\n",
       "      <th>budget</th>\n",
       "      <th>revenue</th>\n",
       "      <th>runtime</th>\n",
       "      <th>vote_average</th>\n",
       "      <th>release_year</th>\n",
       "      <th>profit</th>\n",
       "    </tr>\n",
       "  </thead>\n",
       "  <tbody>\n",
       "    <tr>\n",
       "      <th>count</th>\n",
       "      <td>1.889000e+03</td>\n",
       "      <td>1.889000e+03</td>\n",
       "      <td>1889.000000</td>\n",
       "      <td>1889.000000</td>\n",
       "      <td>1889.000000</td>\n",
       "      <td>1.889000e+03</td>\n",
       "    </tr>\n",
       "    <tr>\n",
       "      <th>mean</th>\n",
       "      <td>5.431083e+07</td>\n",
       "      <td>1.553653e+08</td>\n",
       "      <td>109.658549</td>\n",
       "      <td>6.140762</td>\n",
       "      <td>2007.860773</td>\n",
       "      <td>1.363529e+09</td>\n",
       "    </tr>\n",
       "    <tr>\n",
       "      <th>std</th>\n",
       "      <td>4.858721e+07</td>\n",
       "      <td>2.146698e+08</td>\n",
       "      <td>18.017041</td>\n",
       "      <td>0.764763</td>\n",
       "      <td>4.468841</td>\n",
       "      <td>0.000000e+00</td>\n",
       "    </tr>\n",
       "    <tr>\n",
       "      <th>min</th>\n",
       "      <td>5.000000e+06</td>\n",
       "      <td>2.033165e+06</td>\n",
       "      <td>63.000000</td>\n",
       "      <td>3.300000</td>\n",
       "      <td>2000.000000</td>\n",
       "      <td>1.363529e+09</td>\n",
       "    </tr>\n",
       "    <tr>\n",
       "      <th>25%</th>\n",
       "      <td>2.000000e+07</td>\n",
       "      <td>3.456058e+07</td>\n",
       "      <td>97.000000</td>\n",
       "      <td>5.600000</td>\n",
       "      <td>2004.000000</td>\n",
       "      <td>1.363529e+09</td>\n",
       "    </tr>\n",
       "    <tr>\n",
       "      <th>50%</th>\n",
       "      <td>3.800000e+07</td>\n",
       "      <td>8.361541e+07</td>\n",
       "      <td>107.000000</td>\n",
       "      <td>6.100000</td>\n",
       "      <td>2008.000000</td>\n",
       "      <td>1.363529e+09</td>\n",
       "    </tr>\n",
       "    <tr>\n",
       "      <th>75%</th>\n",
       "      <td>7.200000e+07</td>\n",
       "      <td>1.782626e+08</td>\n",
       "      <td>120.000000</td>\n",
       "      <td>6.600000</td>\n",
       "      <td>2012.000000</td>\n",
       "      <td>1.363529e+09</td>\n",
       "    </tr>\n",
       "    <tr>\n",
       "      <th>max</th>\n",
       "      <td>3.800000e+08</td>\n",
       "      <td>2.781506e+09</td>\n",
       "      <td>214.000000</td>\n",
       "      <td>8.100000</td>\n",
       "      <td>2015.000000</td>\n",
       "      <td>1.363529e+09</td>\n",
       "    </tr>\n",
       "  </tbody>\n",
       "</table>\n",
       "</div>"
      ],
      "text/plain": [
       "             budget       revenue      runtime  vote_average  release_year  \\\n",
       "count  1.889000e+03  1.889000e+03  1889.000000   1889.000000   1889.000000   \n",
       "mean   5.431083e+07  1.553653e+08   109.658549      6.140762   2007.860773   \n",
       "std    4.858721e+07  2.146698e+08    18.017041      0.764763      4.468841   \n",
       "min    5.000000e+06  2.033165e+06    63.000000      3.300000   2000.000000   \n",
       "25%    2.000000e+07  3.456058e+07    97.000000      5.600000   2004.000000   \n",
       "50%    3.800000e+07  8.361541e+07   107.000000      6.100000   2008.000000   \n",
       "75%    7.200000e+07  1.782626e+08   120.000000      6.600000   2012.000000   \n",
       "max    3.800000e+08  2.781506e+09   214.000000      8.100000   2015.000000   \n",
       "\n",
       "             profit  \n",
       "count  1.889000e+03  \n",
       "mean   1.363529e+09  \n",
       "std    0.000000e+00  \n",
       "min    1.363529e+09  \n",
       "25%    1.363529e+09  \n",
       "50%    1.363529e+09  \n",
       "75%    1.363529e+09  \n",
       "max    1.363529e+09  "
      ]
     },
     "execution_count": 75,
     "metadata": {},
     "output_type": "execute_result"
    }
   ],
   "source": [
    "data.describe()"
   ]
  },
  {
   "cell_type": "code",
   "execution_count": 123,
   "metadata": {},
   "outputs": [
    {
     "name": "stdout",
     "output_type": "stream",
     "text": [
      "<class 'pandas.core.frame.DataFrame'>\n",
      "RangeIndex: 1889 entries, 0 to 1888\n",
      "Data columns (total 15 columns):\n",
      " #   Column                Non-Null Count  Dtype  \n",
      "---  ------                --------------  -----  \n",
      " 0   imdb_id               1889 non-null   object \n",
      " 1   budget                1889 non-null   int64  \n",
      " 2   revenue               1889 non-null   int64  \n",
      " 3   original_title        1889 non-null   object \n",
      " 4   cast                  1889 non-null   object \n",
      " 5   director              1889 non-null   object \n",
      " 6   tagline               1889 non-null   object \n",
      " 7   overview              1889 non-null   object \n",
      " 8   runtime               1889 non-null   int64  \n",
      " 9   genres                1889 non-null   object \n",
      " 10  production_companies  1889 non-null   object \n",
      " 11  release_date          1889 non-null   object \n",
      " 12  vote_average          1889 non-null   float64\n",
      " 13  release_year          1889 non-null   int64  \n",
      " 14  profit                1889 non-null   int64  \n",
      "dtypes: float64(1), int64(5), object(9)\n",
      "memory usage: 221.5+ KB\n"
     ]
    }
   ],
   "source": [
    "data.info()"
   ]
  },
  {
   "cell_type": "markdown",
   "metadata": {
    "colab_type": "text",
    "id": "DTIt7ezGVp-G"
   },
   "source": [
    "# Предобработка"
   ]
  },
  {
   "cell_type": "code",
   "execution_count": 10,
   "metadata": {
    "colab": {},
    "colab_type": "code",
    "id": "jNb40DwKVp-H"
   },
   "outputs": [],
   "source": [
    "answers = {} # создадим словарь для ответов"
   ]
  },
  {
   "cell_type": "code",
   "execution_count": 11,
   "metadata": {},
   "outputs": [],
   "source": [
    "# create a column profit\n",
    "\n",
    "def profit(x, y):\n",
    "    return x - y\n",
    "\n",
    "data['profit'] = data.apply(lambda x: profit(x['revenue'], x['budget']), axis = 1)"
   ]
  },
  {
   "cell_type": "code",
   "execution_count": 5,
   "metadata": {},
   "outputs": [],
   "source": [
    "#replace'|' to', ' in DataFrame & explode line\n",
    "\n",
    "data['cast'] = data['cast'].apply(lambda x: x.split('|'))\n",
    "data = data.explode('cast')\n",
    "\n",
    "data['director'] = data['director'].apply(lambda x: x.split('|'))\n",
    "data = data.explode('director')\n",
    "\n",
    "data['genres'] = data['genres'].apply(lambda x: x.split('|'))\n",
    "data = data.explode('genres')\n",
    "\n",
    "data['production_companies'] = data['production_companies'].apply(lambda x: x.split('|'))\n",
    "data = data.explode('production_companies')"
   ]
  },
  {
   "cell_type": "markdown",
   "metadata": {
    "colab_type": "text",
    "id": "YxZaH-nPVp-L"
   },
   "source": [
    "# 1. У какого фильма из списка самый большой бюджет?"
   ]
  },
  {
   "cell_type": "markdown",
   "metadata": {
    "colab_type": "text",
    "id": "Nd-G5gX6Vp-M"
   },
   "source": [
    "Использовать варианты ответов в коде решения запрещено.    \n",
    "Вы думаете и в жизни у вас будут варианты ответов?)"
   ]
  },
  {
   "cell_type": "code",
   "execution_count": 7,
   "metadata": {
    "colab": {},
    "colab_type": "code",
    "id": "dZwb3m28Vp-S"
   },
   "outputs": [
    {
     "data": {
      "text/html": [
       "<div>\n",
       "<style scoped>\n",
       "    .dataframe tbody tr th:only-of-type {\n",
       "        vertical-align: middle;\n",
       "    }\n",
       "\n",
       "    .dataframe tbody tr th {\n",
       "        vertical-align: top;\n",
       "    }\n",
       "\n",
       "    .dataframe thead th {\n",
       "        text-align: right;\n",
       "    }\n",
       "</style>\n",
       "<table border=\"1\" class=\"dataframe\">\n",
       "  <thead>\n",
       "    <tr style=\"text-align: right;\">\n",
       "      <th></th>\n",
       "      <th>original_title</th>\n",
       "      <th>imdb_id</th>\n",
       "      <th>budget</th>\n",
       "    </tr>\n",
       "  </thead>\n",
       "  <tbody>\n",
       "    <tr>\n",
       "      <th>723</th>\n",
       "      <td>Pirates of the Caribbean: On Stranger Tides</td>\n",
       "      <td>tt1298650</td>\n",
       "      <td>380000000</td>\n",
       "    </tr>\n",
       "  </tbody>\n",
       "</table>\n",
       "</div>"
      ],
      "text/plain": [
       "                                  original_title    imdb_id     budget\n",
       "723  Pirates of the Caribbean: On Stranger Tides  tt1298650  380000000"
      ]
     },
     "execution_count": 7,
     "metadata": {},
     "output_type": "execute_result"
    }
   ],
   "source": [
    "#+ \n",
    "data = pd.read_csv('movie_bd_v5.csv')\n",
    "\n",
    "data[data['budget'] == data['budget'].max()][['original_title', 'imdb_id', 'budget']]"
   ]
  },
  {
   "cell_type": "code",
   "execution_count": 13,
   "metadata": {},
   "outputs": [],
   "source": [
    "answers['1'] = '723. Pirates of the Caribbean: On Stranger Tides (tt1298650)'"
   ]
  },
  {
   "cell_type": "markdown",
   "metadata": {
    "colab_type": "text",
    "id": "FNRbbI3vVp-c"
   },
   "source": [
    "# 2. Какой из фильмов самый длительный (в минутах)?"
   ]
  },
  {
   "cell_type": "code",
   "execution_count": 8,
   "metadata": {
    "colab": {},
    "colab_type": "code",
    "id": "ot-VX2XrVp-g"
   },
   "outputs": [
    {
     "data": {
      "text/html": [
       "<div>\n",
       "<style scoped>\n",
       "    .dataframe tbody tr th:only-of-type {\n",
       "        vertical-align: middle;\n",
       "    }\n",
       "\n",
       "    .dataframe tbody tr th {\n",
       "        vertical-align: top;\n",
       "    }\n",
       "\n",
       "    .dataframe thead th {\n",
       "        text-align: right;\n",
       "    }\n",
       "</style>\n",
       "<table border=\"1\" class=\"dataframe\">\n",
       "  <thead>\n",
       "    <tr style=\"text-align: right;\">\n",
       "      <th></th>\n",
       "      <th>original_title</th>\n",
       "      <th>imdb_id</th>\n",
       "      <th>runtime</th>\n",
       "    </tr>\n",
       "  </thead>\n",
       "  <tbody>\n",
       "    <tr>\n",
       "      <th>1157</th>\n",
       "      <td>Gods and Generals</td>\n",
       "      <td>tt0279111</td>\n",
       "      <td>214</td>\n",
       "    </tr>\n",
       "  </tbody>\n",
       "</table>\n",
       "</div>"
      ],
      "text/plain": [
       "         original_title    imdb_id  runtime\n",
       "1157  Gods and Generals  tt0279111      214"
      ]
     },
     "execution_count": 8,
     "metadata": {},
     "output_type": "execute_result"
    }
   ],
   "source": [
    "#+\n",
    "data[data['runtime'] == data['runtime'].max()][['original_title', 'imdb_id', 'runtime']]"
   ]
  },
  {
   "cell_type": "code",
   "execution_count": 12,
   "metadata": {},
   "outputs": [],
   "source": [
    "answers['2'] = '1157. Gods and Generals (tt0279111)'"
   ]
  },
  {
   "cell_type": "markdown",
   "metadata": {
    "colab_type": "text",
    "id": "bapLlpW8Vp-k"
   },
   "source": [
    "# 3. Какой из фильмов самый короткий (в минутах)?\n",
    "\n",
    "\n",
    "\n"
   ]
  },
  {
   "cell_type": "code",
   "execution_count": 14,
   "metadata": {
    "colab": {},
    "colab_type": "code",
    "id": "YBxaSHuAVp-l"
   },
   "outputs": [
    {
     "data": {
      "text/html": [
       "<div>\n",
       "<style scoped>\n",
       "    .dataframe tbody tr th:only-of-type {\n",
       "        vertical-align: middle;\n",
       "    }\n",
       "\n",
       "    .dataframe tbody tr th {\n",
       "        vertical-align: top;\n",
       "    }\n",
       "\n",
       "    .dataframe thead th {\n",
       "        text-align: right;\n",
       "    }\n",
       "</style>\n",
       "<table border=\"1\" class=\"dataframe\">\n",
       "  <thead>\n",
       "    <tr style=\"text-align: right;\">\n",
       "      <th></th>\n",
       "      <th>original_title</th>\n",
       "      <th>imdb_id</th>\n",
       "      <th>runtime</th>\n",
       "    </tr>\n",
       "  </thead>\n",
       "  <tbody>\n",
       "    <tr>\n",
       "      <th>768</th>\n",
       "      <td>Winnie the Pooh</td>\n",
       "      <td>tt1449283</td>\n",
       "      <td>63</td>\n",
       "    </tr>\n",
       "  </tbody>\n",
       "</table>\n",
       "</div>"
      ],
      "text/plain": [
       "      original_title    imdb_id  runtime\n",
       "768  Winnie the Pooh  tt1449283       63"
      ]
     },
     "execution_count": 14,
     "metadata": {},
     "output_type": "execute_result"
    }
   ],
   "source": [
    "#+\n",
    "data[data['runtime'] == data['runtime'].min()][['original_title', 'imdb_id', 'runtime']]"
   ]
  },
  {
   "cell_type": "code",
   "execution_count": 18,
   "metadata": {},
   "outputs": [],
   "source": [
    "answers['3'] = '768. Winnie the Pooh (tt1449283)'"
   ]
  },
  {
   "cell_type": "markdown",
   "metadata": {
    "colab_type": "text",
    "id": "TfQbxbfNVp-p"
   },
   "source": [
    "# 4. Какова средняя длительность фильмов?\n"
   ]
  },
  {
   "cell_type": "code",
   "execution_count": 15,
   "metadata": {
    "colab": {},
    "colab_type": "code",
    "id": "5K6dKZYVVp-q"
   },
   "outputs": [
    {
     "data": {
      "text/plain": [
       "109.6585494970884"
      ]
     },
     "execution_count": 15,
     "metadata": {},
     "output_type": "execute_result"
    }
   ],
   "source": [
    "#+\n",
    "data['runtime'].mean()"
   ]
  },
  {
   "cell_type": "code",
   "execution_count": 19,
   "metadata": {},
   "outputs": [],
   "source": [
    "answers['4'] = '109.6585494970884'"
   ]
  },
  {
   "cell_type": "markdown",
   "metadata": {
    "colab_type": "text",
    "id": "r5TvbnT_Vp-u"
   },
   "source": [
    "# 5. Каково медианное значение длительности фильмов? "
   ]
  },
  {
   "cell_type": "code",
   "execution_count": 16,
   "metadata": {
    "colab": {},
    "colab_type": "code",
    "id": "iBROplKnVp-v"
   },
   "outputs": [
    {
     "data": {
      "text/plain": [
       "107.0"
      ]
     },
     "execution_count": 16,
     "metadata": {},
     "output_type": "execute_result"
    }
   ],
   "source": [
    "#+\n",
    "data['runtime'].median()"
   ]
  },
  {
   "cell_type": "code",
   "execution_count": 20,
   "metadata": {},
   "outputs": [],
   "source": [
    "answers['5'] = '107.0'"
   ]
  },
  {
   "cell_type": "markdown",
   "metadata": {
    "colab_type": "text",
    "id": "39P-deDSVp-y"
   },
   "source": [
    "# 6. Какой самый прибыльный фильм?\n",
    "#### Внимание! Здесь и далее под «прибылью» или «убытками» понимается разность между сборами и бюджетом фильма. (прибыль = сборы - бюджет) в нашем датасете это будет (profit = revenue - budget) "
   ]
  },
  {
   "cell_type": "code",
   "execution_count": 17,
   "metadata": {
    "colab": {},
    "colab_type": "code",
    "id": "UYZh4T9WVp-y"
   },
   "outputs": [
    {
     "data": {
      "text/html": [
       "<div>\n",
       "<style scoped>\n",
       "    .dataframe tbody tr th:only-of-type {\n",
       "        vertical-align: middle;\n",
       "    }\n",
       "\n",
       "    .dataframe tbody tr th {\n",
       "        vertical-align: top;\n",
       "    }\n",
       "\n",
       "    .dataframe thead th {\n",
       "        text-align: right;\n",
       "    }\n",
       "</style>\n",
       "<table border=\"1\" class=\"dataframe\">\n",
       "  <thead>\n",
       "    <tr style=\"text-align: right;\">\n",
       "      <th></th>\n",
       "      <th>original_title</th>\n",
       "      <th>imdb_id</th>\n",
       "      <th>profit</th>\n",
       "    </tr>\n",
       "  </thead>\n",
       "  <tbody>\n",
       "    <tr>\n",
       "      <th>239</th>\n",
       "      <td>Avatar</td>\n",
       "      <td>tt0499549</td>\n",
       "      <td>2544505847</td>\n",
       "    </tr>\n",
       "  </tbody>\n",
       "</table>\n",
       "</div>"
      ],
      "text/plain": [
       "    original_title    imdb_id      profit\n",
       "239         Avatar  tt0499549  2544505847"
      ]
     },
     "execution_count": 17,
     "metadata": {},
     "output_type": "execute_result"
    }
   ],
   "source": [
    "#+\n",
    "data[data['profit'] == data['profit'].max()][['original_title', 'imdb_id', 'profit']]"
   ]
  },
  {
   "cell_type": "code",
   "execution_count": 21,
   "metadata": {},
   "outputs": [],
   "source": [
    "answers['6'] = '239. Avatar (tt0499549)'"
   ]
  },
  {
   "cell_type": "markdown",
   "metadata": {
    "colab_type": "text",
    "id": "M99JmIX4Vp-2"
   },
   "source": [
    "# 7. Какой фильм самый убыточный? "
   ]
  },
  {
   "cell_type": "code",
   "execution_count": 18,
   "metadata": {
    "colab": {},
    "colab_type": "code",
    "id": "w-D2m4XPVp-3"
   },
   "outputs": [
    {
     "data": {
      "text/html": [
       "<div>\n",
       "<style scoped>\n",
       "    .dataframe tbody tr th:only-of-type {\n",
       "        vertical-align: middle;\n",
       "    }\n",
       "\n",
       "    .dataframe tbody tr th {\n",
       "        vertical-align: top;\n",
       "    }\n",
       "\n",
       "    .dataframe thead th {\n",
       "        text-align: right;\n",
       "    }\n",
       "</style>\n",
       "<table border=\"1\" class=\"dataframe\">\n",
       "  <thead>\n",
       "    <tr style=\"text-align: right;\">\n",
       "      <th></th>\n",
       "      <th>original_title</th>\n",
       "      <th>imdb_id</th>\n",
       "      <th>profit</th>\n",
       "    </tr>\n",
       "  </thead>\n",
       "  <tbody>\n",
       "    <tr>\n",
       "      <th>1245</th>\n",
       "      <td>The Lone Ranger</td>\n",
       "      <td>tt1210819</td>\n",
       "      <td>-165710090</td>\n",
       "    </tr>\n",
       "  </tbody>\n",
       "</table>\n",
       "</div>"
      ],
      "text/plain": [
       "       original_title    imdb_id     profit\n",
       "1245  The Lone Ranger  tt1210819 -165710090"
      ]
     },
     "execution_count": 18,
     "metadata": {},
     "output_type": "execute_result"
    }
   ],
   "source": [
    "#+\n",
    "data[data['profit'] == data['profit'].min()][['original_title', 'imdb_id', 'profit']]"
   ]
  },
  {
   "cell_type": "code",
   "execution_count": 22,
   "metadata": {},
   "outputs": [],
   "source": [
    "answers['7'] = '1245. The Lone Ranger (tt1210819)'"
   ]
  },
  {
   "cell_type": "markdown",
   "metadata": {
    "colab_type": "text",
    "id": "wEOM5ERVVp-6"
   },
   "source": [
    "# 8. У скольких фильмов из датасета объем сборов оказался выше бюджета?"
   ]
  },
  {
   "cell_type": "code",
   "execution_count": 19,
   "metadata": {
    "colab": {},
    "colab_type": "code",
    "id": "y00_7HD6Vp-7"
   },
   "outputs": [
    {
     "data": {
      "text/plain": [
       "1478"
      ]
     },
     "execution_count": 19,
     "metadata": {},
     "output_type": "execute_result"
    }
   ],
   "source": [
    "#+\n",
    "len(data[data['profit'] > 0])"
   ]
  },
  {
   "cell_type": "code",
   "execution_count": 23,
   "metadata": {},
   "outputs": [],
   "source": [
    "answers['8'] = '1478'"
   ]
  },
  {
   "cell_type": "markdown",
   "metadata": {
    "colab_type": "text",
    "id": "xhpspA9KVp_A"
   },
   "source": [
    "# 9. Какой фильм оказался самым кассовым в 2008 году?"
   ]
  },
  {
   "cell_type": "code",
   "execution_count": 20,
   "metadata": {},
   "outputs": [
    {
     "data": {
      "text/html": [
       "<div>\n",
       "<style scoped>\n",
       "    .dataframe tbody tr th:only-of-type {\n",
       "        vertical-align: middle;\n",
       "    }\n",
       "\n",
       "    .dataframe tbody tr th {\n",
       "        vertical-align: top;\n",
       "    }\n",
       "\n",
       "    .dataframe thead th {\n",
       "        text-align: right;\n",
       "    }\n",
       "</style>\n",
       "<table border=\"1\" class=\"dataframe\">\n",
       "  <thead>\n",
       "    <tr style=\"text-align: right;\">\n",
       "      <th></th>\n",
       "      <th>original_title</th>\n",
       "      <th>imdb_id</th>\n",
       "      <th>profit</th>\n",
       "    </tr>\n",
       "  </thead>\n",
       "  <tbody>\n",
       "    <tr>\n",
       "      <th>599</th>\n",
       "      <td>The Dark Knight</td>\n",
       "      <td>tt0468569</td>\n",
       "      <td>816921825</td>\n",
       "    </tr>\n",
       "  </tbody>\n",
       "</table>\n",
       "</div>"
      ],
      "text/plain": [
       "      original_title    imdb_id     profit\n",
       "599  The Dark Knight  tt0468569  816921825"
      ]
     },
     "execution_count": 20,
     "metadata": {},
     "output_type": "execute_result"
    }
   ],
   "source": [
    "#+\n",
    "d = data[data['release_year'] == 2008][['original_title', 'imdb_id', 'profit']]\n",
    "d[d['profit']==d['profit'].max()]"
   ]
  },
  {
   "cell_type": "code",
   "execution_count": 24,
   "metadata": {},
   "outputs": [],
   "source": [
    "answers['9'] = '599. The Dark Knight (tt0468569)'"
   ]
  },
  {
   "cell_type": "markdown",
   "metadata": {
    "colab_type": "text",
    "id": "Zi4hDKidVp_F"
   },
   "source": [
    "# 10. Самый убыточный фильм за период с 2012 по 2014 г. (включительно)?\n"
   ]
  },
  {
   "cell_type": "code",
   "execution_count": 21,
   "metadata": {},
   "outputs": [
    {
     "data": {
      "text/html": [
       "<div>\n",
       "<style scoped>\n",
       "    .dataframe tbody tr th:only-of-type {\n",
       "        vertical-align: middle;\n",
       "    }\n",
       "\n",
       "    .dataframe tbody tr th {\n",
       "        vertical-align: top;\n",
       "    }\n",
       "\n",
       "    .dataframe thead th {\n",
       "        text-align: right;\n",
       "    }\n",
       "</style>\n",
       "<table border=\"1\" class=\"dataframe\">\n",
       "  <thead>\n",
       "    <tr style=\"text-align: right;\">\n",
       "      <th></th>\n",
       "      <th>original_title</th>\n",
       "      <th>imdb_id</th>\n",
       "      <th>profit</th>\n",
       "    </tr>\n",
       "  </thead>\n",
       "  <tbody>\n",
       "    <tr>\n",
       "      <th>1245</th>\n",
       "      <td>The Lone Ranger</td>\n",
       "      <td>tt1210819</td>\n",
       "      <td>-165710090</td>\n",
       "    </tr>\n",
       "  </tbody>\n",
       "</table>\n",
       "</div>"
      ],
      "text/plain": [
       "       original_title    imdb_id     profit\n",
       "1245  The Lone Ranger  tt1210819 -165710090"
      ]
     },
     "execution_count": 21,
     "metadata": {},
     "output_type": "execute_result"
    }
   ],
   "source": [
    "#+\n",
    "d = data[(data['release_year'] >= 2012) & (data['release_year'] <= 2014)][['original_title', 'imdb_id', 'profit']]\n",
    "d[d['profit']==d['profit'].min()]"
   ]
  },
  {
   "cell_type": "code",
   "execution_count": 25,
   "metadata": {},
   "outputs": [],
   "source": [
    "answers['10'] = '1245. The Lone Ranger (tt1210819)'"
   ]
  },
  {
   "cell_type": "markdown",
   "metadata": {
    "colab_type": "text",
    "id": "EA7Sa9dkVp_I"
   },
   "source": [
    "# 11. Какого жанра фильмов больше всего?"
   ]
  },
  {
   "cell_type": "code",
   "execution_count": 22,
   "metadata": {
    "colab": {},
    "colab_type": "code",
    "id": "zsJAwJ8QVp_J"
   },
   "outputs": [
    {
     "data": {
      "text/plain": [
       "Counter({'Action': 582,\n",
       "         'Adventure': 415,\n",
       "         'Science Fiction': 248,\n",
       "         'Thriller': 596,\n",
       "         'Fantasy': 222,\n",
       "         'Crime': 315,\n",
       "         'Western': 19,\n",
       "         'Drama': 782,\n",
       "         'Family': 260,\n",
       "         'Animation': 139,\n",
       "         'Comedy': 683,\n",
       "         'Mystery': 168,\n",
       "         'Romance': 308,\n",
       "         'War': 58,\n",
       "         'History': 62,\n",
       "         'Music': 64,\n",
       "         'Horror': 176,\n",
       "         'Documentary': 8,\n",
       "         'Foreign': 2})"
      ]
     },
     "execution_count": 22,
     "metadata": {},
     "output_type": "execute_result"
    }
   ],
   "source": [
    "data = pd.read_csv('movie_bd_v5.csv')\n",
    "\n",
    "genres_count = Counter()\n",
    "\n",
    "lists = [line.split('|') for line in data['genres'].tolist()]\n",
    "genres_list = [genre for line in lists for genre in line]\n",
    "for genre in genres_list:\n",
    "    genres_count[genre] += 1\n",
    "    \n",
    "genres_count"
   ]
  },
  {
   "cell_type": "markdown",
   "metadata": {},
   "source": [
    "вариант 2"
   ]
  },
  {
   "cell_type": "code",
   "execution_count": 23,
   "metadata": {},
   "outputs": [
    {
     "data": {
      "text/plain": [
       "Drama              782\n",
       "Comedy             683\n",
       "Thriller           596\n",
       "Action             582\n",
       "Adventure          415\n",
       "Crime              315\n",
       "Romance            308\n",
       "Family             260\n",
       "Science Fiction    248\n",
       "Fantasy            222\n",
       "Horror             176\n",
       "Mystery            168\n",
       "Animation          139\n",
       "Music               64\n",
       "History             62\n",
       "War                 58\n",
       "Western             19\n",
       "Documentary          8\n",
       "Foreign              2\n",
       "Name: genres, dtype: int64"
      ]
     },
     "execution_count": 23,
     "metadata": {},
     "output_type": "execute_result"
    }
   ],
   "source": [
    "#+\n",
    "data = pd.read_csv('movie_bd_v5.csv')\n",
    "\n",
    "data['genres'] = data['genres'].apply(lambda x: x.split('|'))\n",
    "data = data.explode('genres')\n",
    "\n",
    "data['genres'].value_counts()"
   ]
  },
  {
   "cell_type": "code",
   "execution_count": 78,
   "metadata": {},
   "outputs": [],
   "source": [
    "answers['11'] = 'Drama'"
   ]
  },
  {
   "cell_type": "markdown",
   "metadata": {
    "colab_type": "text",
    "id": "T9_bPWpkVp_Q"
   },
   "source": [
    "# 12. Фильмы какого жанра чаще всего становятся прибыльными? "
   ]
  },
  {
   "cell_type": "code",
   "execution_count": 24,
   "metadata": {
    "colab": {},
    "colab_type": "code",
    "id": "Tmt8MaK1Vp_R"
   },
   "outputs": [
    {
     "data": {
      "text/plain": [
       "Drama              560\n",
       "Comedy             551\n",
       "Thriller           446\n",
       "Action             444\n",
       "Adventure          337\n",
       "Romance            242\n",
       "Crime              231\n",
       "Family             226\n",
       "Science Fiction    195\n",
       "Fantasy            188\n",
       "Horror             150\n",
       "Animation          120\n",
       "Mystery            119\n",
       "Music               47\n",
       "History             46\n",
       "War                 41\n",
       "Western             12\n",
       "Documentary          7\n",
       "Name: genres, dtype: int64"
      ]
     },
     "execution_count": 24,
     "metadata": {},
     "output_type": "execute_result"
    }
   ],
   "source": [
    "#+\n",
    "data = pd.read_csv('movie_bd_v5.csv')\n",
    "\n",
    "def profit(x, y):\n",
    "    return x - y\n",
    "\n",
    "data['profit'] = data.apply(lambda x: profit(x['revenue'], x['budget']), axis = 1)\n",
    "\n",
    "data['genres'] = data['genres'].apply(lambda x: x.split('|'))\n",
    "data = data.explode('genres')\n",
    "\n",
    "data1 = data[data['profit'] > 0]\n",
    "data1['genres'].value_counts()"
   ]
  },
  {
   "cell_type": "code",
   "execution_count": 79,
   "metadata": {},
   "outputs": [],
   "source": [
    "answers['12'] = 'Drama'"
   ]
  },
  {
   "cell_type": "markdown",
   "metadata": {
    "colab_type": "text",
    "id": "0F23bgsDVp_U"
   },
   "source": [
    "# 13. У какого режиссера самые большие суммарные кассовые сбооры?"
   ]
  },
  {
   "cell_type": "code",
   "execution_count": 25,
   "metadata": {
    "colab": {},
    "colab_type": "code",
    "id": "K6Z3J8ygVp_X"
   },
   "outputs": [
    {
     "data": {
      "text/plain": [
       "director\n",
       "Peter Jackson        6490593685\n",
       "Christopher Nolan    4167548502\n",
       "David Yates          4154295625\n",
       "Michael Bay          3886938960\n",
       "J.J. Abrams          3579169916\n",
       "                        ...    \n",
       "David MichÃ´d           2295423\n",
       "Steven Shainberg        2281089\n",
       "Paul Schrader           2062066\n",
       "Keanu Reeves            2054941\n",
       "Simon Hunter            2033165\n",
       "Name: revenue, Length: 997, dtype: int64"
      ]
     },
     "execution_count": 25,
     "metadata": {},
     "output_type": "execute_result"
    }
   ],
   "source": [
    "#+\n",
    "data = pd.read_csv('movie_bd_v5.csv')\n",
    "\n",
    "data['director'] = data['director'].apply(lambda x: x.split('|'))\n",
    "data = data.explode('director')\n",
    "\n",
    "data.groupby(['director'])['revenue'].sum().sort_values(ascending = False)"
   ]
  },
  {
   "cell_type": "code",
   "execution_count": 80,
   "metadata": {},
   "outputs": [],
   "source": [
    "answers['13'] = 'Peter Jackson'"
   ]
  },
  {
   "cell_type": "markdown",
   "metadata": {
    "colab_type": "text",
    "id": "PsYC9FgRVp_a"
   },
   "source": [
    "# 14. Какой режисер снял больше всего фильмов в стиле Action?"
   ]
  },
  {
   "cell_type": "code",
   "execution_count": 26,
   "metadata": {
    "colab": {},
    "colab_type": "code",
    "id": "wd2M-wHeVp_b"
   },
   "outputs": [
    {
     "data": {
      "text/plain": [
       "Robert Rodriguez      9\n",
       "Michael Bay           7\n",
       "Paul W.S. Anderson    7\n",
       "Ridley Scott          6\n",
       "Antoine Fuqua         6\n",
       "                     ..\n",
       "Michel Gondry         1\n",
       "Mathieu Kassovitz     1\n",
       "Chris Miller          1\n",
       "David Leitch          1\n",
       "Noam Murro            1\n",
       "Name: director, Length: 364, dtype: int64"
      ]
     },
     "execution_count": 26,
     "metadata": {},
     "output_type": "execute_result"
    }
   ],
   "source": [
    "#+\n",
    "data = pd.read_csv('movie_bd_v5.csv')\n",
    "\n",
    "data['director'] = data['director'].apply(lambda x: x.split('|'))\n",
    "data = data.explode('director')\n",
    "\n",
    "data['genres'] = data['genres'].apply(lambda x: x.split('|'))\n",
    "data = data.explode('genres')\n",
    "\n",
    "data1 = data[data['genres'] == 'Action']\n",
    "data1['director'].value_counts()"
   ]
  },
  {
   "cell_type": "code",
   "execution_count": 81,
   "metadata": {},
   "outputs": [],
   "source": [
    "answers['14'] = 'Robert Rodriguez'"
   ]
  },
  {
   "cell_type": "markdown",
   "metadata": {
    "colab_type": "text",
    "id": "PQ0KciD7Vp_f"
   },
   "source": [
    "# 15. Фильмы с каким актером принесли самые высокие кассовые сборы в 2012 году? "
   ]
  },
  {
   "cell_type": "code",
   "execution_count": 27,
   "metadata": {
    "colab": {},
    "colab_type": "code",
    "id": "aga62oeKVp_g"
   },
   "outputs": [
    {
     "data": {
      "text/html": [
       "<div>\n",
       "<style scoped>\n",
       "    .dataframe tbody tr th:only-of-type {\n",
       "        vertical-align: middle;\n",
       "    }\n",
       "\n",
       "    .dataframe tbody tr th {\n",
       "        vertical-align: top;\n",
       "    }\n",
       "\n",
       "    .dataframe thead th {\n",
       "        text-align: right;\n",
       "    }\n",
       "</style>\n",
       "<table border=\"1\" class=\"dataframe\">\n",
       "  <thead>\n",
       "    <tr style=\"text-align: right;\">\n",
       "      <th></th>\n",
       "      <th>imdb_id</th>\n",
       "      <th>budget</th>\n",
       "      <th>revenue</th>\n",
       "      <th>original_title</th>\n",
       "      <th>cast</th>\n",
       "      <th>director</th>\n",
       "      <th>tagline</th>\n",
       "      <th>overview</th>\n",
       "      <th>runtime</th>\n",
       "      <th>genres</th>\n",
       "      <th>production_companies</th>\n",
       "      <th>release_date</th>\n",
       "      <th>vote_average</th>\n",
       "      <th>release_year</th>\n",
       "    </tr>\n",
       "  </thead>\n",
       "  <tbody>\n",
       "    <tr>\n",
       "      <th>970</th>\n",
       "      <td>tt0848228</td>\n",
       "      <td>220000000</td>\n",
       "      <td>1519557910</td>\n",
       "      <td>The Avengers</td>\n",
       "      <td>Robert Downey Jr.|Chris Evans|Mark Ruffalo|Chr...</td>\n",
       "      <td>Joss Whedon</td>\n",
       "      <td>Some assembly required.</td>\n",
       "      <td>When an unexpected enemy emerges and threatens...</td>\n",
       "      <td>143</td>\n",
       "      <td>Science Fiction|Action|Adventure</td>\n",
       "      <td>Marvel Studios</td>\n",
       "      <td>4/25/2012</td>\n",
       "      <td>7.3</td>\n",
       "      <td>2012</td>\n",
       "    </tr>\n",
       "  </tbody>\n",
       "</table>\n",
       "</div>"
      ],
      "text/plain": [
       "       imdb_id     budget     revenue original_title  \\\n",
       "970  tt0848228  220000000  1519557910   The Avengers   \n",
       "\n",
       "                                                  cast     director  \\\n",
       "970  Robert Downey Jr.|Chris Evans|Mark Ruffalo|Chr...  Joss Whedon   \n",
       "\n",
       "                     tagline  \\\n",
       "970  Some assembly required.   \n",
       "\n",
       "                                              overview  runtime  \\\n",
       "970  When an unexpected enemy emerges and threatens...      143   \n",
       "\n",
       "                               genres production_companies release_date  \\\n",
       "970  Science Fiction|Action|Adventure       Marvel Studios    4/25/2012   \n",
       "\n",
       "     vote_average  release_year  \n",
       "970           7.3          2012  "
      ]
     },
     "execution_count": 27,
     "metadata": {},
     "output_type": "execute_result"
    }
   ],
   "source": [
    "#+\n",
    "data = pd.read_csv('movie_bd_v5.csv')\n",
    "\n",
    "data1 = data[data['release_year'] == 2012]\n",
    "data1[data1['revenue'] == data1['revenue'].max()]"
   ]
  },
  {
   "cell_type": "code",
   "execution_count": 82,
   "metadata": {},
   "outputs": [],
   "source": [
    "answers['15'] = 'Robert Downey Jr., Chris Evans, Mark Ruffalo, Chris Hemsworth, Scarlett Johansson'"
   ]
  },
  {
   "cell_type": "markdown",
   "metadata": {
    "colab_type": "text",
    "id": "mWHyyL7QVp_j"
   },
   "source": [
    "# 16. Какой актер снялся в большем количестве высокобюджетных фильмов?"
   ]
  },
  {
   "cell_type": "code",
   "execution_count": 28,
   "metadata": {
    "colab": {},
    "colab_type": "code",
    "id": "qQtmHKTFVp_k"
   },
   "outputs": [
    {
     "data": {
      "text/plain": [
       "Matt Damon           18\n",
       "Adam Sandler         17\n",
       "Angelina Jolie       16\n",
       "Tom Cruise           15\n",
       "Samuel L. Jackson    15\n",
       "                     ..\n",
       "Garry Shandling       1\n",
       "Lombardo Boyar        1\n",
       "Steven Brand          1\n",
       "Bob Balaban           1\n",
       "Paul Sanchez          1\n",
       "Name: cast, Length: 1505, dtype: int64"
      ]
     },
     "execution_count": 28,
     "metadata": {},
     "output_type": "execute_result"
    }
   ],
   "source": [
    "#+\n",
    "data = pd.read_csv('movie_bd_v5.csv')\n",
    "\n",
    "data['cast'] = data['cast'].apply(lambda x: x.split('|'))\n",
    "data = data.explode('cast')\n",
    "\n",
    "data1 = data[data['budget'] > data['budget'].mean()]\n",
    "data1['cast'].value_counts()"
   ]
  },
  {
   "cell_type": "code",
   "execution_count": 83,
   "metadata": {},
   "outputs": [],
   "source": [
    "answers['16'] = 'Matt Damon'"
   ]
  },
  {
   "cell_type": "markdown",
   "metadata": {
    "colab_type": "text",
    "id": "NIh6AaW5Vp_n"
   },
   "source": [
    "# 17. В фильмах какого жанра больше всего снимался Nicolas Cage? "
   ]
  },
  {
   "cell_type": "code",
   "execution_count": 29,
   "metadata": {
    "colab": {},
    "colab_type": "code",
    "id": "H74SJDIBVp_n"
   },
   "outputs": [
    {
     "data": {
      "text/plain": [
       "Action             17\n",
       "Thriller           15\n",
       "Drama              12\n",
       "Crime              10\n",
       "Fantasy             8\n",
       "Adventure           7\n",
       "Comedy              6\n",
       "Science Fiction     4\n",
       "Mystery             3\n",
       "Animation           3\n",
       "Family              3\n",
       "History             2\n",
       "Horror              1\n",
       "Romance             1\n",
       "War                 1\n",
       "Name: genres, dtype: int64"
      ]
     },
     "execution_count": 29,
     "metadata": {},
     "output_type": "execute_result"
    }
   ],
   "source": [
    "#+\n",
    "data = pd.read_csv('movie_bd_v5.csv')\n",
    "\n",
    "data['cast'] = data['cast'].apply(lambda x: x.split('|'))\n",
    "data = data.explode('cast')\n",
    "\n",
    "data['genres'] = data['genres'].apply(lambda x: x.split('|'))\n",
    "data = data.explode('genres')\n",
    "\n",
    "data1 = data[data['cast'] == 'Nicolas Cage']\n",
    "data1['genres'].value_counts()"
   ]
  },
  {
   "cell_type": "code",
   "execution_count": 84,
   "metadata": {},
   "outputs": [],
   "source": [
    "answers['17'] = 'Action'"
   ]
  },
  {
   "cell_type": "markdown",
   "metadata": {
    "colab_type": "text",
    "id": "RqOmPRfWVp_q"
   },
   "source": [
    "# 18. Самый убыточный фильм от Paramount Pictures"
   ]
  },
  {
   "cell_type": "code",
   "execution_count": 30,
   "metadata": {
    "colab": {},
    "colab_type": "code",
    "id": "9E_B0Y96Vp_r"
   },
   "outputs": [
    {
     "data": {
      "text/plain": [
       "original_title                                      imdb_id  \n",
       "K-19: The Widowmaker                                tt0267626    -64831034\n",
       "Timeline                                            tt0300556    -60519261\n",
       "Next                                                tt0435705    -51788987\n",
       "Alfie                                               tt0375173    -46604061\n",
       "Twisted                                             tt0315297    -24805000\n",
       "                                                                   ...    \n",
       "Mission: Impossible - Ghost Protocol                tt1229238    549713380\n",
       "Transformers                                        tt0418279    559709780\n",
       "Indiana Jones and the Kingdom of the Crystal Skull  tt0367882    601636033\n",
       "Transformers: Revenge of the Fallen                 tt1055369    686297228\n",
       "Transformers: Dark of the Moon                      tt1399103    928746996\n",
       "Name: profit, Length: 122, dtype: int64"
      ]
     },
     "execution_count": 30,
     "metadata": {},
     "output_type": "execute_result"
    }
   ],
   "source": [
    "#+\n",
    "data = pd.read_csv('movie_bd_v5.csv')\n",
    "\n",
    "def profit(x, y):\n",
    "    return x - y\n",
    "\n",
    "data['profit'] = data.apply(lambda x: profit(x['revenue'], x['budget']), axis = 1)\n",
    "\n",
    "data['production_companies'] = data['production_companies'].apply(lambda x: x.split('|'))\n",
    "data = data.explode('production_companies')\n",
    "\n",
    "data1 = data[data['production_companies'] == 'Paramount Pictures']\n",
    "data1.groupby(['original_title', 'imdb_id'])['profit'].min().sort_values()"
   ]
  },
  {
   "cell_type": "code",
   "execution_count": 85,
   "metadata": {},
   "outputs": [],
   "source": [
    "answers['18'] = 'K-19: The Widowmaker (tt0267626)'"
   ]
  },
  {
   "cell_type": "markdown",
   "metadata": {
    "colab_type": "text",
    "id": "vS8Ur6ddVp_u"
   },
   "source": [
    "# 19. Какой год стал самым успешным по суммарным кассовым сборам?"
   ]
  },
  {
   "cell_type": "code",
   "execution_count": 31,
   "metadata": {
    "colab": {},
    "colab_type": "code",
    "id": "Dnbt4GdIVp_v"
   },
   "outputs": [
    {
     "data": {
      "text/plain": [
       "release_year\n",
       "2015    25449202382\n",
       "2014    23405862953\n",
       "2013    23213799791\n",
       "2012    23079001687\n",
       "2011    22676791872\n",
       "2010    21071204961\n",
       "2009    20261791024\n",
       "2008    18252781990\n",
       "2007    18162406801\n",
       "2004    15663430720\n",
       "2005    15309425558\n",
       "2006    14775042320\n",
       "2003    14346123312\n",
       "2002    14136361487\n",
       "2001    13017764865\n",
       "2000    10664099805\n",
       "Name: revenue, dtype: int64"
      ]
     },
     "execution_count": 31,
     "metadata": {},
     "output_type": "execute_result"
    }
   ],
   "source": [
    "#+\n",
    "data = pd.read_csv('movie_bd_v5.csv')\n",
    "\n",
    "data.groupby(['release_year'])['revenue'].sum().sort_values(ascending = False)"
   ]
  },
  {
   "cell_type": "code",
   "execution_count": 86,
   "metadata": {},
   "outputs": [],
   "source": [
    "answers['19'] = '2015'"
   ]
  },
  {
   "cell_type": "markdown",
   "metadata": {
    "colab_type": "text",
    "id": "JAzJh4QAVp_z"
   },
   "source": [
    "# 20. Какой самый прибыльный год для студии Warner Bros?"
   ]
  },
  {
   "cell_type": "code",
   "execution_count": 32,
   "metadata": {
    "colab": {},
    "colab_type": "code",
    "id": "wgVu02DEVp_0"
   },
   "outputs": [
    {
     "data": {
      "text/plain": [
       "release_year\n",
       "2014    2292949646\n",
       "2007    2201675217\n",
       "2008    2134595031\n",
       "2010    1974712985\n",
       "2011    1871393682\n",
       "2003    1844008221\n",
       "2009    1822454136\n",
       "2013    1636453400\n",
       "2004    1631933725\n",
       "2005    1551980298\n",
       "2001    1282142579\n",
       "2012    1258020056\n",
       "2002    1022709901\n",
       "2015     870368348\n",
       "2006     625351872\n",
       "2000     452631386\n",
       "Name: profit, dtype: int64"
      ]
     },
     "execution_count": 32,
     "metadata": {},
     "output_type": "execute_result"
    }
   ],
   "source": [
    "#+\n",
    "data = pd.read_csv('movie_bd_v5.csv')\n",
    "\n",
    "def profit(x, y):\n",
    "    return x - y\n",
    "\n",
    "data['profit'] = data.apply(lambda x: profit(x['revenue'], x['budget']), axis = 1)\n",
    "\n",
    "data['production_companies'] = data['production_companies'].apply(lambda x: x.split('|'))\n",
    "data = data.explode('production_companies')\n",
    "\n",
    "data1 = data[data.production_companies.str.contains('Warner Bros', na = False)]\n",
    "data1.groupby(['release_year'])['profit'].sum().sort_values(ascending = False)"
   ]
  },
  {
   "cell_type": "code",
   "execution_count": 87,
   "metadata": {},
   "outputs": [],
   "source": [
    "answers['20'] = '2014'"
   ]
  },
  {
   "cell_type": "markdown",
   "metadata": {
    "colab_type": "text",
    "id": "8Im1S2HRVp_4"
   },
   "source": [
    "# 21. В каком месяце за все годы суммарно вышло больше всего фильмов?"
   ]
  },
  {
   "cell_type": "code",
   "execution_count": 33,
   "metadata": {},
   "outputs": [
    {
     "data": {
      "text/plain": [
       "9     227\n",
       "12    190\n",
       "10    186\n",
       "8     161\n",
       "3     156\n",
       "4     149\n",
       "6     147\n",
       "11    146\n",
       "7     142\n",
       "5     140\n",
       "2     135\n",
       "1     110\n",
       "Name: month, dtype: int64"
      ]
     },
     "execution_count": 33,
     "metadata": {},
     "output_type": "execute_result"
    }
   ],
   "source": [
    "#+\n",
    "data = pd.read_csv('movie_bd_v5.csv')\n",
    "\n",
    "def month(x):\n",
    "    return int(x[:x.find('/')])\n",
    "\n",
    "data['month'] = data['release_date'].apply(lambda x: month(x))\n",
    "\n",
    "data['month'].value_counts()"
   ]
  },
  {
   "cell_type": "code",
   "execution_count": 88,
   "metadata": {
    "colab": {},
    "colab_type": "code",
    "id": "lev6TH7gVp_4"
   },
   "outputs": [],
   "source": [
    "answers['21'] = '9'"
   ]
  },
  {
   "cell_type": "markdown",
   "metadata": {
    "colab_type": "text",
    "id": "uAJsZ_NeVp_7"
   },
   "source": [
    "# 22. Сколько суммарно вышло фильмов летом? (за июнь, июль, август)"
   ]
  },
  {
   "cell_type": "code",
   "execution_count": 34,
   "metadata": {
    "colab": {},
    "colab_type": "code",
    "id": "Aa-hEREoVp_8"
   },
   "outputs": [
    {
     "data": {
      "text/plain": [
       "450"
      ]
     },
     "execution_count": 34,
     "metadata": {},
     "output_type": "execute_result"
    }
   ],
   "source": [
    "#+\n",
    "data1 = data[(data['month'] > 5) & (data['month'] < 9)]\n",
    "len(data1)"
   ]
  },
  {
   "cell_type": "code",
   "execution_count": 89,
   "metadata": {},
   "outputs": [],
   "source": [
    "answers['22'] = '450'"
   ]
  },
  {
   "cell_type": "markdown",
   "metadata": {
    "colab_type": "text",
    "id": "G94ppOY1VqAA"
   },
   "source": [
    "# 23. Для какого режиссера зима – самое продуктивное время года? "
   ]
  },
  {
   "cell_type": "code",
   "execution_count": 35,
   "metadata": {
    "colab": {},
    "colab_type": "code",
    "id": "RhNTsamuVqAB"
   },
   "outputs": [
    {
     "data": {
      "text/plain": [
       "Peter Jackson            7\n",
       "Clint Eastwood           6\n",
       "Steven Soderbergh        6\n",
       "Shawn Levy               4\n",
       "Nancy Meyers             4\n",
       "                        ..\n",
       "Ron Clements             1\n",
       "Christopher B. Landon    1\n",
       "Mark Dindal              1\n",
       "Stephen Kay              1\n",
       "Peyton Reed              1\n",
       "Name: director, Length: 358, dtype: int64"
      ]
     },
     "execution_count": 35,
     "metadata": {},
     "output_type": "execute_result"
    }
   ],
   "source": [
    "#+\n",
    "data = pd.read_csv('movie_bd_v5.csv')\n",
    "\n",
    "def month(x):\n",
    "    return int(x[:x.find('/')])\n",
    "\n",
    "data['month'] = data['release_date'].apply(lambda x: month(x))\n",
    "\n",
    "data['director'] = data['director'].apply(lambda x: x.split('|'))\n",
    "data = data.explode('director')\n",
    "\n",
    "data1 = data[(data['month'] == 12) | (data['month'] == 1) | (data['month'] == 2)]\n",
    "data1['director'].value_counts()"
   ]
  },
  {
   "cell_type": "code",
   "execution_count": 111,
   "metadata": {},
   "outputs": [],
   "source": [
    "answers['23'] = 'Peter Jackson'"
   ]
  },
  {
   "cell_type": "markdown",
   "metadata": {
    "colab_type": "text",
    "id": "RBo0JVjVVqAF"
   },
   "source": [
    "# 24. Какая студия дает самые длинные названия своим фильмам по количеству символов?"
   ]
  },
  {
   "cell_type": "code",
   "execution_count": 36,
   "metadata": {
    "colab": {},
    "colab_type": "code",
    "id": "QRGS8L0iVqAG"
   },
   "outputs": [
    {
     "data": {
      "text/plain": [
       "production_companies\n",
       "Four By Two Productions       83.0\n",
       "Jim Henson Company, The       59.0\n",
       "Dos Corazones                 47.0\n",
       "Museum Canada Productions     46.0\n",
       "Polsky Films                  46.0\n",
       "                              ... \n",
       "Everest Entertainment          3.0\n",
       "Berlanti Productions           3.0\n",
       "XM2 Productions                2.0\n",
       "Ixtlan Productions             2.0\n",
       "Global Entertainment Group     2.0\n",
       "Name: len_title, Length: 1771, dtype: float64"
      ]
     },
     "execution_count": 36,
     "metadata": {},
     "output_type": "execute_result"
    }
   ],
   "source": [
    "#+\n",
    "data = pd.read_csv('movie_bd_v5.csv')\n",
    "\n",
    "data['production_companies'] = data['production_companies'].apply(lambda x: x.split('|'))\n",
    "data = data.explode('production_companies')\n",
    "\n",
    "data['len_title'] = data['original_title'].apply(lambda x: len(x))\n",
    "data.groupby(['production_companies'])['len_title'].mean().sort_values(ascending = False)"
   ]
  },
  {
   "cell_type": "code",
   "execution_count": 112,
   "metadata": {},
   "outputs": [],
   "source": [
    "answers['24'] = 'Four By Two Productions'"
   ]
  },
  {
   "cell_type": "markdown",
   "metadata": {
    "colab_type": "text",
    "id": "9G0hbvR7VqAK"
   },
   "source": [
    "# 25. Описание фильмов какой студии в среднем самые длинные по количеству слов?"
   ]
  },
  {
   "cell_type": "code",
   "execution_count": 37,
   "metadata": {
    "colab": {},
    "colab_type": "code",
    "id": "Ge2GsLNxVqAK"
   },
   "outputs": [
    {
     "data": {
      "text/plain": [
       "production_companies\n",
       "Midnight Picture Show                    1000.0\n",
       "Room 9 Entertainment                      964.0\n",
       "Brookwell-McNamara Entertainment          936.0\n",
       "Lions Gate Family Entertainment           909.0\n",
       "Crest Animation Productions               909.0\n",
       "                                          ...  \n",
       "Projection Pictures                        74.0\n",
       "London Boulevard                           74.0\n",
       "Phantom Four                               72.0\n",
       "Empire Pictures                            62.0\n",
       "Motion Picture Corporation of America      59.0\n",
       "Name: len_overview, Length: 1771, dtype: float64"
      ]
     },
     "execution_count": 37,
     "metadata": {},
     "output_type": "execute_result"
    }
   ],
   "source": [
    "#+\n",
    "data = pd.read_csv('movie_bd_v5.csv')\n",
    "\n",
    "data['production_companies'] = data['production_companies'].apply(lambda x: x.split('|'))\n",
    "data = data.explode('production_companies')\n",
    "\n",
    "data['len_overview'] = data['overview'].apply(lambda x: len(x))\n",
    "data.groupby(['production_companies'])['len_overview'].mean().sort_values(ascending = False)"
   ]
  },
  {
   "cell_type": "code",
   "execution_count": 113,
   "metadata": {},
   "outputs": [],
   "source": [
    "answers['25'] = 'Midnight Picture Show'"
   ]
  },
  {
   "cell_type": "markdown",
   "metadata": {
    "colab_type": "text",
    "id": "FJ1AFt90VqAP"
   },
   "source": [
    "# 26. Какие фильмы входят в 1 процент лучших по рейтингу? "
   ]
  },
  {
   "cell_type": "code",
   "execution_count": 38,
   "metadata": {
    "colab": {},
    "colab_type": "code",
    "id": "8qmJVq4CVqAQ"
   },
   "outputs": [
    {
     "data": {
      "text/plain": [
       "array(['Inside Out', 'Room', 'Interstellar', 'Guardians of the Galaxy',\n",
       "       'The Imitation Game', 'Gone Girl', 'The Grand Budapest Hotel',\n",
       "       'Inception', 'The Dark Knight', 'The Pianist',\n",
       "       'The Lord of the Rings: The Return of the King',\n",
       "       'The Wolf of Wall Street', '12 Years a Slave', 'Memento'],\n",
       "      dtype=object)"
      ]
     },
     "execution_count": 38,
     "metadata": {},
     "output_type": "execute_result"
    }
   ],
   "source": [
    "#+\n",
    "data = pd.read_csv('movie_bd_v5.csv')\n",
    "\n",
    "data1 = data[data['vote_average'] > data['vote_average'].quantile(q = 0.99)]\n",
    "data1['original_title'].unique()"
   ]
  },
  {
   "cell_type": "code",
   "execution_count": 114,
   "metadata": {},
   "outputs": [],
   "source": [
    "answers['26'] = 'Inside Out', 'Room', 'Interstellar', 'Guardians of the Galaxy', 'The Imitation Game', 'Gone Girl', 'The Grand Budapest Hotel', 'Inception', 'The Dark Knight', 'The Pianist', 'The Lord of the Rings: The Return of the King', 'The Wolf of Wall Street', '12 Years a Slave', 'Memento'"
   ]
  },
  {
   "cell_type": "markdown",
   "metadata": {
    "colab_type": "text",
    "id": "MdXsUXbCVqAV"
   },
   "source": [
    "# 27. Какие актеры чаще всего снимаются в одном фильме вместе?\n"
   ]
  },
  {
   "cell_type": "code",
   "execution_count": 39,
   "metadata": {},
   "outputs": [
    {
     "data": {
      "text/plain": [
       "OrderedDict([(('Daniel Radcliffe', 'Rupert Grint'), 8),\n",
       "             (('Daniel Radcliffe', 'Emma Watson'), 8),\n",
       "             (('Rupert Grint', 'Emma Watson'), 7),\n",
       "             (('Ben Stiller', 'Owen Wilson'), 6),\n",
       "             (('Johnny Depp', 'Helena Bonham Carter'), 6),\n",
       "             (('Adam Sandler', 'Kevin James'), 5),\n",
       "             (('Hugh Jackman', 'Ian McKellen'), 5),\n",
       "             (('Kristen Stewart', 'Robert Pattinson'), 5),\n",
       "             (('Kristen Stewart', 'Taylor Lautner'), 5),\n",
       "             (('Robert Pattinson', 'Taylor Lautner'), 5),\n",
       "             (('Jennifer Lawrence', 'Josh Hutcherson'), 4),\n",
       "             (('Jennifer Lawrence', 'Liam Hemsworth'), 4),\n",
       "             (('Jennifer Lawrence', 'Woody Harrelson'), 4),\n",
       "             (('Josh Hutcherson', 'Liam Hemsworth'), 4),\n",
       "             (('Josh Hutcherson', 'Woody Harrelson'), 4),\n",
       "             (('Liam Hemsworth', 'Woody Harrelson'), 4),\n",
       "             (('Tobin Bell', 'Costas Mandylor'), 4),\n",
       "             (('Tobin Bell', 'Betsy Russell'), 4),\n",
       "             (('Costas Mandylor', 'Betsy Russell'), 4),\n",
       "             (('Vin Diesel', 'Jordana Brewster'), 4),\n",
       "             (('Paul Walker', 'Jordana Brewster'), 4),\n",
       "             (('Mike Myers', 'Eddie Murphy'), 4),\n",
       "             (('Mike Myers', 'Cameron Diaz'), 4),\n",
       "             (('Eddie Murphy', 'Cameron Diaz'), 4),\n",
       "             (('Kristen Stewart', 'Peter Facinelli'), 4),\n",
       "             (('Robert Pattinson', 'Peter Facinelli'), 4),\n",
       "             (('Taylor Lautner', 'Peter Facinelli'), 4),\n",
       "             (('George Clooney', 'Brad Pitt'), 4),\n",
       "             (('Hugh Jackman', 'Halle Berry'), 4),\n",
       "             (('Christian Bale', 'Michael Caine'), 4),\n",
       "             (('Vin Diesel', 'Paul Walker'), 3),\n",
       "             (('Vin Diesel', 'Michelle Rodriguez'), 3),\n",
       "             (('Vin Diesel', 'Dwayne Johnson'), 3),\n",
       "             (('Paul Walker', 'Michelle Rodriguez'), 3),\n",
       "             (('Paul Walker', 'Dwayne Johnson'), 3),\n",
       "             (('Robert Downey Jr.', 'Mark Ruffalo'), 3),\n",
       "             (('Robert Downey Jr.', 'Scarlett Johansson'), 3),\n",
       "             (('Chris Evans', 'Scarlett Johansson'), 3),\n",
       "             (('Liam Neeson', 'Maggie Grace'), 3),\n",
       "             (('Liam Neeson', 'Famke Janssen'), 3),\n",
       "             (('Jennifer Lawrence', 'Elizabeth Banks'), 3),\n",
       "             (('Josh Hutcherson', 'Elizabeth Banks'), 3),\n",
       "             (('Liam Hemsworth', 'Elizabeth Banks'), 3),\n",
       "             (('Woody Harrelson', 'Elizabeth Banks'), 3),\n",
       "             (('Tom Cruise', 'Ving Rhames'), 3),\n",
       "             (('Mark Wahlberg', 'Giovanni Ribisi'), 3),\n",
       "             (('Johnny Depp', 'Paul Bettany'), 3),\n",
       "             (('Adam Sandler', 'Steve Buscemi'), 3),\n",
       "             (('Martin Freeman', 'Richard Armitage'), 3),\n",
       "             (('Ian McKellen', 'Richard Armitage'), 3),\n",
       "             (('Ben Stiller', 'Robin Williams'), 3),\n",
       "             (('Patrick Stewart', 'Ian McKellen'), 3),\n",
       "             (('Sylvester Stallone', 'Jason Statham'), 3),\n",
       "             (('Sylvester Stallone', 'Arnold Schwarzenegger'), 3),\n",
       "             (('Russell Crowe', 'Jennifer Connelly'), 3),\n",
       "             (('Bradley Cooper', 'Ed Helms'), 3),\n",
       "             (('Bradley Cooper', 'Zach Galifianakis'), 3),\n",
       "             (('Bradley Cooper', 'Justin Bartha'), 3),\n",
       "             (('Ed Helms', 'Zach Galifianakis'), 3),\n",
       "             (('Ed Helms', 'Justin Bartha'), 3),\n",
       "             (('Zach Galifianakis', 'Justin Bartha'), 3),\n",
       "             (('Kristen Stewart', 'Ashley Greene'), 3),\n",
       "             (('Robert Pattinson', 'Ashley Greene'), 3),\n",
       "             (('Taylor Lautner', 'Ashley Greene'), 3),\n",
       "             (('Bradley Cooper', 'Ken Jeong'), 3),\n",
       "             (('David Cross', 'Justin Long'), 3),\n",
       "             (('Jason Lee', 'Justin Long'), 3),\n",
       "             (('Paul Rudd', 'Jason Segel'), 3),\n",
       "             (('Shia LaBeouf', 'Josh Duhamel'), 3),\n",
       "             (('Robert Downey Jr.', 'Gwyneth Paltrow'), 3),\n",
       "             (('Daniel Radcliffe', 'Ralph Fiennes'), 3),\n",
       "             (('Emma Watson', 'Ralph Fiennes'), 3),\n",
       "             (('Rupert Grint', 'Ralph Fiennes'), 3),\n",
       "             (('Skandar Keynes', 'Georgie Henley'), 3),\n",
       "             (('Mike Myers', 'Antonio Banderas'), 3),\n",
       "             (('Mike Myers', 'Julie Andrews'), 3),\n",
       "             (('Eddie Murphy', 'Antonio Banderas'), 3),\n",
       "             (('Eddie Murphy', 'Julie Andrews'), 3),\n",
       "             (('Cameron Diaz', 'Antonio Banderas'), 3),\n",
       "             (('Cameron Diaz', 'Julie Andrews'), 3),\n",
       "             (('Steve Carell', 'Paul Rudd'), 3),\n",
       "             (('Elijah Wood', 'Ian McKellen'), 3),\n",
       "             (('Elijah Wood', 'Viggo Mortensen'), 3),\n",
       "             (('Elijah Wood', 'Liv Tyler'), 3),\n",
       "             (('Elijah Wood', 'Orlando Bloom'), 3),\n",
       "             (('Ian McKellen', 'Viggo Mortensen'), 3),\n",
       "             (('Ian McKellen', 'Liv Tyler'), 3),\n",
       "             (('Ian McKellen', 'Orlando Bloom'), 3),\n",
       "             (('Viggo Mortensen', 'Liv Tyler'), 3),\n",
       "             (('Viggo Mortensen', 'Orlando Bloom'), 3),\n",
       "             (('Liv Tyler', 'Orlando Bloom'), 3),\n",
       "             (('George Clooney', 'Matt Damon'), 3),\n",
       "             (('Brad Pitt', 'Julia Roberts'), 3),\n",
       "             (('Jason Biggs', 'Thomas Ian Nicholas'), 3),\n",
       "             (('Jason Biggs', 'Seann William Scott'), 3),\n",
       "             (('Alexa PenaVega', 'Daryl Sabara'), 3),\n",
       "             (('Antonio Banderas', 'Carla Gugino'), 3),\n",
       "             (('Christian Bale', 'Gary Oldman'), 3),\n",
       "             (('Michael Caine', 'Gary Oldman'), 3),\n",
       "             (('Daniel Craig', 'Judi Dench'), 3),\n",
       "             (('Jack Black', 'Angelina Jolie'), 3),\n",
       "             (('Ben Stiller', 'David Schwimmer'), 3),\n",
       "             (('Ben Stiller', 'Chris Rock'), 3),\n",
       "             (('Ron Perlman', 'John Hurt'), 3),\n",
       "             (('Hayden Christensen', 'Samuel L. Jackson'), 3),\n",
       "             (('Jason Statham', 'FranÃ§ois BerlÃ©and'), 3),\n",
       "             (('John Cho', 'Kal Penn'), 3),\n",
       "             (('Johnny Depp', 'Geoffrey Rush'), 3),\n",
       "             (('Johnny Depp', 'Bill Nighy'), 3),\n",
       "             (('Ray Romano', 'Denis Leary'), 3),\n",
       "             (('John Leguizamo', 'Denis Leary'), 3),\n",
       "             (('Tobey Maguire', 'Kirsten Dunst'), 3),\n",
       "             (('Tobey Maguire', 'James Franco'), 3),\n",
       "             (('Kirsten Dunst', 'James Franco'), 3),\n",
       "             (('Tim Allen', 'Spencer Breslin'), 3),\n",
       "             (('Denzel Washington', 'Kimberly Elise'), 3),\n",
       "             (('Ice Cube', 'Mike Epps'), 3),\n",
       "             (('Johnny Depp', 'Orlando Bloom'), 3),\n",
       "             (('Johnny Depp', 'Keira Knightley'), 3),\n",
       "             (('Orlando Bloom', 'Keira Knightley'), 3),\n",
       "             (('Patrick Stewart', 'Famke Janssen'), 3),\n",
       "             (('Hugh Jackman', 'Famke Janssen'), 3),\n",
       "             (('Ian McKellen', 'Famke Janssen'), 3),\n",
       "             (('Halle Berry', 'Famke Janssen'), 3),\n",
       "             (('Owen Wilson', 'Vince Vaughn'), 3),\n",
       "             (('Bruce Willis', 'Kevin Pollak'), 3),\n",
       "             (('Shailene Woodley', 'Theo James'), 2),\n",
       "             (('Shailene Woodley', 'Kate Winslet'), 2),\n",
       "             (('Shailene Woodley', 'Ansel Elgort'), 2),\n",
       "             (('Shailene Woodley', 'Miles Teller'), 2),\n",
       "             (('Theo James', 'Kate Winslet'), 2),\n",
       "             (('Theo James', 'Miles Teller'), 2),\n",
       "             (('Kate Winslet', 'Miles Teller'), 2),\n",
       "             (('Leonardo DiCaprio', 'Tom Hardy'), 2),\n",
       "             (('Daniel Craig', 'Ralph Fiennes'), 2),\n",
       "             (('Robert Downey Jr.', 'Chris Hemsworth'), 2),\n",
       "             (('Robert Downey Jr.', 'Chris Evans'), 2),\n",
       "             (('Chris Hemsworth', 'Scarlett Johansson'), 2),\n",
       "             (('Mark Ruffalo', 'Scarlett Johansson'), 2),\n",
       "             (('Maggie Grace', 'Famke Janssen'), 2),\n",
       "             (('Dwayne Johnson', 'Carla Gugino'), 2),\n",
       "             (('Christian Bale', 'Melissa Leo'), 2),\n",
       "             (('Steve Carell', 'Ryan Gosling'), 2),\n",
       "             (('Tom Cruise', 'Jeremy Renner'), 2),\n",
       "             (('Tom Cruise', 'Simon Pegg'), 2),\n",
       "             (('Jeremy Renner', 'Simon Pegg'), 2),\n",
       "             (('Mark Wahlberg', 'Seth MacFarlane'), 2),\n",
       "             (('Seth MacFarlane', 'Giovanni Ribisi'), 2),\n",
       "             ((\"Dylan O'Brien\", 'Kaya Scodelario'), 2),\n",
       "             (('Anna Kendrick', 'Rebel Wilson'), 2),\n",
       "             (('Anna Kendrick', 'Brittany Snow'), 2),\n",
       "             (('Anna Kendrick', 'Skylar Astin'), 2),\n",
       "             (('Liam Neeson', 'Boyd Holbrook'), 2),\n",
       "             (('Edgar RamÃ\\xadrez', 'Delroy Lindo'), 2),\n",
       "             (('Bradley Cooper', 'Sienna Miller'), 2),\n",
       "             (('Miles Teller', 'Michael B. Jordan'), 2),\n",
       "             (('Rose Byrne', 'Bobby Cannavale'), 2),\n",
       "             (('Hugh Jackman', 'Amanda Seyfried'), 2),\n",
       "             (('Joseph Gordon-Levitt', 'Seth Rogen'), 2),\n",
       "             (('Seth Rogen', 'Lizzy Caplan'), 2),\n",
       "             (('Adam Sandler', 'Andy Samberg'), 2),\n",
       "             (('Adam Sandler', 'Selena Gomez'), 2),\n",
       "             (('Will Ferrell', 'Mark Wahlberg'), 2),\n",
       "             (('Kevin James', 'Raini Rodriguez'), 2),\n",
       "             (('Tina Fey', 'Amy Poehler'), 2),\n",
       "             (('Tom Kenny', 'Bill Fagerbakke'), 2),\n",
       "             (('Tom Kenny', 'Rodger Bumpass'), 2),\n",
       "             (('Tom Kenny', 'Clancy Brown'), 2),\n",
       "             (('Tom Kenny', 'Carolyn Lawrence'), 2),\n",
       "             (('Bill Fagerbakke', 'Carolyn Lawrence'), 2),\n",
       "             (('Rodger Bumpass', 'Carolyn Lawrence'), 2),\n",
       "             (('Clancy Brown', 'Carolyn Lawrence'), 2),\n",
       "             (('Chris Evans', 'Sebastian Stan'), 2),\n",
       "             (('Scarlett Johansson', 'Samuel L. Jackson'), 2),\n",
       "             (('Martin Freeman', 'Ian McKellen'), 2),\n",
       "             (('Martin Freeman', 'Ken Stott'), 2),\n",
       "             (('Martin Freeman', 'Graham McTavish'), 2),\n",
       "             (('Ian McKellen', 'Ken Stott'), 2),\n",
       "             (('Ian McKellen', 'Graham McTavish'), 2),\n",
       "             (('Richard Armitage', 'Ken Stott'), 2),\n",
       "             (('Richard Armitage', 'Graham McTavish'), 2),\n",
       "             (('Ken Stott', 'Graham McTavish'), 2),\n",
       "             (('Hugh Jackman', 'Patrick Stewart'), 2),\n",
       "             (('James McAvoy', 'Patrick Stewart'), 2),\n",
       "             (('James McAvoy', 'Michael Fassbender'), 2),\n",
       "             (('Megan Fox', 'Will Arnett'), 2),\n",
       "             (('Mark Wahlberg', 'Stanley Tucci'), 2),\n",
       "             (('Jason Bateman', 'Jason Sudeikis'), 2),\n",
       "             (('Jason Bateman', 'Charlie Day'), 2),\n",
       "             (('Jason Bateman', 'Jennifer Aniston'), 2),\n",
       "             (('Andrew Garfield', 'Emma Stone'), 2),\n",
       "             (('James Franco', 'Seth Rogen'), 2),\n",
       "             (('James Franco', 'Lizzy Caplan'), 2),\n",
       "             (('Jay Baruchel', 'Gerard Butler'), 2),\n",
       "             (('Jay Baruchel', 'Jonah Hill'), 2),\n",
       "             (('Gerard Butler', 'Jonah Hill'), 2),\n",
       "             (('Jason Statham', 'Arnold Schwarzenegger'), 2),\n",
       "             (('Meryl Streep', 'Emily Blunt'), 2),\n",
       "             (('Lena Headey', 'David Wenham'), 2),\n",
       "             (('Jonah Hill', 'Dave Franco'), 2),\n",
       "             (('Channing Tatum', 'Dave Franco'), 2),\n",
       "             (('Ben Whishaw', 'Michael Gambon'), 2),\n",
       "             (('Russell Crowe', 'Logan Lerman'), 2),\n",
       "             (('Zac Efron', 'Dave Franco'), 2),\n",
       "             (('Ryan Guzman', 'Stephen Boss'), 2),\n",
       "             (('Joaquin Phoenix', 'Reese Witherspoon'), 2),\n",
       "             (('Jessica Alba', 'Josh Brolin'), 2),\n",
       "             (('Jessica Alba', 'Rosario Dawson'), 2),\n",
       "             (('Jesse Eisenberg', 'Anne Hathaway'), 2),\n",
       "             (('Jesse Eisenberg', 'Leslie Mann'), 2),\n",
       "             (('Anne Hathaway', 'Leslie Mann'), 2),\n",
       "             (('George Clooney', 'Bill Murray'), 2),\n",
       "             (('George Clooney', 'John Goodman'), 2),\n",
       "             (('Kit Harington', 'Carrie-Anne Moss'), 2),\n",
       "             (('Channing Tatum', 'Sienna Miller'), 2),\n",
       "             (('Zac Efron', 'Imogen Poots'), 2),\n",
       "             (('Michael Ealy', 'Regina Hall'), 2),\n",
       "             (('Morgan Freeman', 'Ashley Judd'), 2),\n",
       "             (('Morgan Freeman', 'Nathan Gamble'), 2),\n",
       "             (('Morgan Freeman', 'Harry Connick Jr.'), 2),\n",
       "             (('Ashley Judd', 'Nathan Gamble'), 2),\n",
       "             (('Ashley Judd', 'Harry Connick Jr.'), 2),\n",
       "             (('Michael Sheen', 'Shane Brolly'), 2),\n",
       "             (('Chris Pine', 'Zachary Quinto'), 2),\n",
       "             (('Robert Downey Jr.', 'Jude Law'), 2),\n",
       "             (('John Cusack', 'Amanda Peet'), 2),\n",
       "             (('Jennifer Connelly', 'Christopher Plummer'), 2),\n",
       "             (('Jesse Eisenberg', 'Woody Harrelson'), 2),\n",
       "             (('Kristen Stewart', 'Billy Burke'), 2),\n",
       "             (('Robert Pattinson', 'Billy Burke'), 2),\n",
       "             (('Bill Hader', 'Anna Faris'), 2),\n",
       "             (('Bill Hader', 'James Caan'), 2),\n",
       "             (('Anna Faris', 'James Caan'), 2),\n",
       "             (('Susan Sarandon', 'Stanley Tucci'), 2),\n",
       "             (('Jason Statham', 'Amy Smart'), 2),\n",
       "             (('Jason Statham', 'Dwight Yoakam'), 2),\n",
       "             (('Jason Statham', 'Efren Ramirez'), 2),\n",
       "             (('Amy Smart', 'Dwight Yoakam'), 2),\n",
       "             (('Amy Smart', 'Efren Ramirez'), 2),\n",
       "             (('Vince Vaughn', 'Jon Favreau'), 2),\n",
       "             (('Jason Bateman', 'Jon Favreau'), 2),\n",
       "             (('Charlize Theron', 'Guy Pearce'), 2),\n",
       "             (('Seth Rogen', 'Paul Rudd'), 2),\n",
       "             (('Reese Witherspoon', 'Paul Rudd'), 2),\n",
       "             (('Meryl Streep', 'Stanley Tucci'), 2),\n",
       "             (('Johnny Depp', 'Giovanni Ribisi'), 2),\n",
       "             (('Billy Crudup', 'Marion Cotillard'), 2),\n",
       "             (('Matt Damon', 'Scott Bakula'), 2),\n",
       "             (('Tobin Bell', 'Mark Rolston'), 2),\n",
       "             (('Costas Mandylor', 'Mark Rolston'), 2),\n",
       "             (('Betsy Russell', 'Mark Rolston'), 2),\n",
       "             (('Shia LaBeouf', 'Megan Fox'), 2),\n",
       "             (('Shia LaBeouf', 'Tyrese Gibson'), 2),\n",
       "             (('Megan Fox', 'Tyrese Gibson'), 2),\n",
       "             (('Josh Duhamel', 'Tyrese Gibson'), 2),\n",
       "             (('Jeff Bridges', 'Kevin Spacey'), 2),\n",
       "             (('Dwayne Johnson', 'Seann William Scott'), 2),\n",
       "             (('Nicolas Cage', 'Eva Mendes'), 2),\n",
       "             (('Seth Rogen', 'Leslie Mann'), 2),\n",
       "             (('Naomi Watts', 'Armin Mueller-Stahl'), 2),\n",
       "             (('Clive Owen', 'Paul Giamatti'), 2),\n",
       "             (('Julia Roberts', 'Paul Giamatti'), 2),\n",
       "             (('Jason Bateman', 'Kristen Wiig'), 2),\n",
       "             (('Robert Downey Jr.', 'Jamie Foxx'), 2),\n",
       "             (('Michael Caine', 'Emily Mortimer'), 2),\n",
       "             (('Danny Huston', 'Lynn Collins'), 2),\n",
       "             (('Robert Downey Jr.', 'Don Cheadle'), 2),\n",
       "             (('Gwyneth Paltrow', 'Don Cheadle'), 2),\n",
       "             (('Steve Carell', 'Russell Brand'), 2),\n",
       "             (('Steve Carell', 'Will Arnett'), 2),\n",
       "             (('Jason Segel', 'Russell Brand'), 2),\n",
       "             (('Sylvester Stallone', 'Dolph Lundgren'), 2),\n",
       "             (('Jason Statham', 'Dolph Lundgren'), 2),\n",
       "             (('Russell Crowe', 'Mark Strong'), 2),\n",
       "             (('Sam Worthington', 'Liam Neeson'), 2),\n",
       "             (('Sam Worthington', 'Ralph Fiennes'), 2),\n",
       "             (('Liam Neeson', 'Ralph Fiennes'), 2),\n",
       "             (('Robert De Niro', 'Owen Wilson'), 2),\n",
       "             (('Robert De Niro', 'Dustin Hoffman'), 2),\n",
       "             (('Robert De Niro', 'Barbra Streisand'), 2),\n",
       "             (('Ben Stiller', 'Dustin Hoffman'), 2),\n",
       "             (('Ben Stiller', 'Barbra Streisand'), 2),\n",
       "             (('Dustin Hoffman', 'Barbra Streisand'), 2),\n",
       "             (('Logan Lerman', 'Brandon T. Jackson'), 2),\n",
       "             (('Logan Lerman', 'Alexandra Daddario'), 2),\n",
       "             (('Channing Tatum', 'Richard Jenkins'), 2),\n",
       "             (('Danny Trejo', 'Michelle Rodriguez'), 2),\n",
       "             (('Adam Sandler', 'Salma Hayek'), 2),\n",
       "             (('Ashley Greene', 'Peter Facinelli'), 2),\n",
       "             (('Brad Pitt', 'Jonah Hill'), 2),\n",
       "             (('Mark Wahlberg', 'Dwayne Johnson'), 2),\n",
       "             (('Helena Bonham Carter', 'Timothy Spall'), 2),\n",
       "             (('Jake Gyllenhaal', 'Anne Hathaway'), 2),\n",
       "             (('Tom Cruise', 'Cameron Diaz'), 2),\n",
       "             (('Matt Damon', 'Greg Kinnear'), 2),\n",
       "             (('Emily Blunt', 'Jason Segel'), 2),\n",
       "             (('Jack Black', 'Amanda Peet'), 2),\n",
       "             (('Christian Bale', 'Amy Adams'), 2),\n",
       "             (('Katherine Heigl', 'Ashton Kutcher'), 2),\n",
       "             (('Sarah Jessica Parker', 'Kristin Davis'), 2),\n",
       "             (('Sarah Jessica Parker', 'Cynthia Nixon'), 2),\n",
       "             (('Sarah Jessica Parker', 'Kim Cattrall'), 2),\n",
       "             (('Sarah Jessica Parker', 'Chris Noth'), 2),\n",
       "             (('Kristin Davis', 'Chris Noth'), 2),\n",
       "             (('Cynthia Nixon', 'Chris Noth'), 2),\n",
       "             (('Kim Cattrall', 'Chris Noth'), 2),\n",
       "             (('Robert De Niro', 'Edward Norton'), 2),\n",
       "             (('Zachary Gordon', 'Robert Capron'), 2),\n",
       "             (('Zachary Gordon', 'Steve Zahn'), 2),\n",
       "             (('Zachary Gordon', 'Rachael Harris'), 2),\n",
       "             (('Robert Capron', 'Steve Zahn'), 2),\n",
       "             (('Steve Zahn', 'Rachael Harris'), 2),\n",
       "             (('Kristen Wiig', 'Maya Rudolph'), 2),\n",
       "             (('Tyler Perry', 'Janet Jackson'), 2),\n",
       "             (('Tyler Perry', 'Jill Scott'), 2),\n",
       "             (('Tyler Perry', 'Malik Yoba'), 2),\n",
       "             (('Janet Jackson', 'Malik Yoba'), 2),\n",
       "             (('Jill Scott', 'Malik Yoba'), 2),\n",
       "             (('Milla Jovovich', 'Ali Larter'), 2),\n",
       "             (('John Goodman', 'Steve Buscemi'), 2),\n",
       "             (('Billy Crystal', 'Steve Buscemi'), 2),\n",
       "             (('RenÃ©e Zellweger', 'Colin Firth'), 2),\n",
       "             (('RenÃ©e Zellweger', 'Hugh Grant'), 2),\n",
       "             (('RenÃ©e Zellweger', 'Gemma Jones'), 2),\n",
       "             (('RenÃ©e Zellweger', 'Jim Broadbent'), 2),\n",
       "             (('Colin Firth', 'Gemma Jones'), 2),\n",
       "             (('Colin Firth', 'Jim Broadbent'), 2),\n",
       "             (('Hugh Grant', 'Gemma Jones'), 2),\n",
       "             (('Hugh Grant', 'Jim Broadbent'), 2),\n",
       "             (('George Clooney', 'Andy GarcÃ\\xada'), 2),\n",
       "             (('George Clooney', 'Julia Roberts'), 2),\n",
       "             (('Brad Pitt', 'Matt Damon'), 2),\n",
       "             (('Brad Pitt', 'Andy GarcÃ\\xada'), 2),\n",
       "             (('Brendan Fraser', 'John Hannah'), 2),\n",
       "             (('Angelina Jolie', 'Noah Taylor'), 2),\n",
       "             (('Russell Crowe', 'Paul Bettany'), 2),\n",
       "             (('Jason Biggs', 'Chris Klein'), 2),\n",
       "             (('Jason Biggs', 'Eddie Kaye Thomas'), 2),\n",
       "             (('Seann William Scott', 'Eddie Kaye Thomas'), 2),\n",
       "             (('Anne Hathaway', 'Julie Andrews'), 2),\n",
       "             (('Anne Hathaway', 'Heather Matarazzo'), 2),\n",
       "             (('Anne Hathaway', 'HÃ©ctor Elizondo'), 2),\n",
       "             (('Julie Andrews', 'Heather Matarazzo'), 2),\n",
       "             (('Julie Andrews', 'HÃ©ctor Elizondo'), 2),\n",
       "             (('Ewan McGregor', 'Jim Broadbent'), 2),\n",
       "             (('Johnny Depp', 'PenÃ©lope Cruz'), 2),\n",
       "             (('Jude Law', 'Rachel Weisz'), 2),\n",
       "             (('Heath Ledger', 'Shannyn Sossamon'), 2),\n",
       "             (('Marlon Wayans', 'Shawn Wayans'), 2),\n",
       "             (('Chris Tucker', 'Jackie Chan'), 2),\n",
       "             (('Seth Green', 'Breckin Meyer'), 2),\n",
       "             (('Breckin Meyer', 'Amy Smart'), 2),\n",
       "             (('Brad Pitt', 'James Gandolfini'), 2),\n",
       "             (('Anthony Hopkins', 'Hope Davis'), 2),\n",
       "             (('Robert De Niro', 'Charlize Theron'), 2),\n",
       "             (('DMX', 'Anthony Anderson'), 2),\n",
       "             (('Mike Epps', 'Anna Maria Horsford'), 2),\n",
       "             (('Jason Biggs', 'Amanda Detmer'), 2),\n",
       "             (('Paul Walker', 'Vin Diesel'), 2),\n",
       "             (('John Travolta', 'Vince Vaughn'), 2),\n",
       "             (('Freddie Prinze Jr.', 'Matthew Lillard'), 2),\n",
       "             (('Cary Elwes', 'Joanna Lumley'), 2),\n",
       "             (('Jack Black', 'Dustin Hoffman'), 2),\n",
       "             (('Jack Black', 'Jackie Chan'), 2),\n",
       "             (('Dustin Hoffman', 'Jackie Chan'), 2),\n",
       "             (('Angelina Jolie', 'Jackie Chan'), 2),\n",
       "             (('Colin Firth', 'Stellan SkarsgÃ¥rd'), 2),\n",
       "             (('Ben Stiller', 'Jada Pinkett Smith'), 2),\n",
       "             (('David Schwimmer', 'Chris Rock'), 2),\n",
       "             (('Ron Perlman', 'Selma Blair'), 2),\n",
       "             (('Ron Perlman', 'Jeffrey Tambor'), 2),\n",
       "             (('Selma Blair', 'Jeffrey Tambor'), 2),\n",
       "             (('Selma Blair', 'John Hurt'), 2),\n",
       "             (('William Moseley', 'Anna Popplewell'), 2),\n",
       "             (('William Moseley', 'Skandar Keynes'), 2),\n",
       "             (('William Moseley', 'Georgie Henley'), 2),\n",
       "             (('Anna Popplewell', 'Skandar Keynes'), 2),\n",
       "             (('Anna Popplewell', 'Georgie Henley'), 2),\n",
       "             (('Hugh Jackman', 'David Wenham'), 2),\n",
       "             (('George Clooney', 'Tilda Swinton'), 2),\n",
       "             (('George Clooney', 'Richard Jenkins'), 2),\n",
       "             (('Will Ferrell', 'John C. Reilly'), 2),\n",
       "             (('Will Ferrell', 'Mary Steenburgen'), 2),\n",
       "             (('Seth Rogen', 'Danny McBride'), 2),\n",
       "             (('James Franco', 'Danny McBride'), 2),\n",
       "             (('Mark Wahlberg', 'Mila Kunis'), 2),\n",
       "             (('Paul Rudd', 'Elizabeth Banks'), 2),\n",
       "             (('Angelina Jolie', 'John Malkovich'), 2),\n",
       "             (('John Cho', 'Neil Patrick Harris'), 2),\n",
       "             (('Kal Penn', 'Neil Patrick Harris'), 2),\n",
       "             (('Tobin Bell', 'Scott Patterson'), 2),\n",
       "             (('Scott Patterson', 'Betsy Russell'), 2),\n",
       "             (('Javier Bardem', 'PenÃ©lope Cruz'), 2),\n",
       "             (('Steve Carell', 'Seth Rogen'), 2),\n",
       "             (('Robert De Niro', 'Carla Gugino'), 2),\n",
       "             (('Adam Sandler', 'John Turturro'), 2),\n",
       "             (('Sean Penn', 'Josh Brolin'), 2),\n",
       "             (('Cheryl Hines', 'Jeff Daniels'), 2),\n",
       "             (('Bruce Willis', 'Robin Wright'), 2),\n",
       "             (('Chris Hemsworth', 'Natalie Portman'), 2),\n",
       "             (('Chris Hemsworth', 'Tom Hiddleston'), 2),\n",
       "             (('Chris Hemsworth', 'Anthony Hopkins'), 2),\n",
       "             (('Natalie Portman', 'Tom Hiddleston'), 2),\n",
       "             (('Natalie Portman', 'Anthony Hopkins'), 2),\n",
       "             (('Tom Hiddleston', 'Anthony Hopkins'), 2),\n",
       "             (('Ryan Gosling', 'Emma Stone'), 2),\n",
       "             (('Ryan Gosling', 'Marisa Tomei'), 2),\n",
       "             (('Bradley Cooper', 'Robert De Niro'), 2),\n",
       "             (('Ed Helms', 'Ken Jeong'), 2),\n",
       "             (('Zach Galifianakis', 'Ken Jeong'), 2),\n",
       "             (('Justin Bartha', 'Ken Jeong'), 2),\n",
       "             (('Asa Butterfield', 'Ben Kingsley'), 2),\n",
       "             (('Matthew McConaughey', 'William H. Macy'), 2),\n",
       "             (('Jim Cummings', 'Bud Luckey'), 2),\n",
       "             (('Jim Cummings', 'Craig Ferguson'), 2),\n",
       "             (('Tom Hanks', 'Julia Roberts'), 2),\n",
       "             (('Antonio Banderas', 'Salma Hayek'), 2),\n",
       "             (('Kate Winslet', 'Jude Law'), 2),\n",
       "             (('Robert De Niro', 'Katherine Heigl'), 2),\n",
       "             (('Robin Williams', 'Johnny A. Sanchez'), 2),\n",
       "             (('David Arquette', 'Neve Campbell'), 2),\n",
       "             (('David Arquette', 'Courteney Cox'), 2),\n",
       "             (('Neve Campbell', 'Courteney Cox'), 2),\n",
       "             (('Devon Bostick', 'Rachael Harris'), 2),\n",
       "             (('Devon Bostick', 'Steve Zahn'), 2),\n",
       "             (('Jason Lee', 'David Cross'), 2),\n",
       "             (('Neil Patrick Harris', 'Hank Azaria'), 2),\n",
       "             (('Cate Blanchett', 'Tom Hollander'), 2),\n",
       "             (('James McAvoy', 'Maggie Smith'), 2),\n",
       "             (('James McAvoy', 'Julie Walters'), 2),\n",
       "             (('Philip Seymour Hoffman', 'Marisa Tomei'), 2),\n",
       "             (('Katie Featherston', 'Sprague Grayden'), 2),\n",
       "             (('Viggo Mortensen', 'Vincent Cassel'), 2),\n",
       "             (('Paul Walker', 'Tyrese Gibson'), 2),\n",
       "             (('Dwayne Johnson', 'Jordana Brewster'), 2),\n",
       "             (('Ray Romano', 'John Leguizamo'), 2),\n",
       "             (('Matt Damon', 'Franka Potente'), 2),\n",
       "             (('Matt Damon', 'Chris Cooper'), 2),\n",
       "             (('Matt Damon', 'Brian Cox'), 2),\n",
       "             (('Franka Potente', 'Brian Cox'), 2),\n",
       "             (('Milla Jovovich', 'Michelle Rodriguez'), 2),\n",
       "             (('Ewan McGregor', 'Natalie Portman'), 2),\n",
       "             (('Ewan McGregor', 'Hayden Christensen'), 2),\n",
       "             (('Ewan McGregor', 'Ian McDiarmid'), 2),\n",
       "             (('Ewan McGregor', 'Samuel L. Jackson'), 2),\n",
       "             (('Natalie Portman', 'Hayden Christensen'), 2),\n",
       "             (('Natalie Portman', 'Ian McDiarmid'), 2),\n",
       "             (('Natalie Portman', 'Samuel L. Jackson'), 2),\n",
       "             (('Hayden Christensen', 'Ian McDiarmid'), 2),\n",
       "             (('Ian McDiarmid', 'Samuel L. Jackson'), 2),\n",
       "             (('Leonardo DiCaprio', 'Martin Sheen'), 2),\n",
       "             (('Tom Hanks', 'Amy Adams'), 2),\n",
       "             (('Adrien Brody', 'Thomas Kretschmann'), 2),\n",
       "             (('Jennifer Lopez', 'Stanley Tucci'), 2),\n",
       "             (('Wesley Snipes', 'Kris Kristofferson'), 2),\n",
       "             (('Johnny Knoxville', 'Bam Margera'), 2),\n",
       "             (('Johnny Knoxville', 'Steve-O'), 2),\n",
       "             (('Johnny Knoxville', 'Chris Pontius'), 2),\n",
       "             (('Bam Margera', 'Steve-O'), 2),\n",
       "             (('Bam Margera', 'Chris Pontius'), 2),\n",
       "             (('Steve-O', 'Chris Pontius'), 2),\n",
       "             (('Meryl Streep', 'Chris Cooper'), 2),\n",
       "             (('Ice Cube', 'Cedric the Entertainer'), 2),\n",
       "             (('Ice Cube', 'Sean Patrick Thomas'), 2),\n",
       "             (('Cedric the Entertainer', 'Sean Patrick Thomas'), 2),\n",
       "             (('Antonio Banderas', 'Alexa PenaVega'), 2),\n",
       "             (('Antonio Banderas', 'Daryl Sabara'), 2),\n",
       "             (('Carla Gugino', 'Alexa PenaVega'), 2),\n",
       "             (('Carla Gugino', 'Daryl Sabara'), 2),\n",
       "             (('Ice Cube', 'John Witherspoon'), 2),\n",
       "             (('Ice Cube', 'Don Curry'), 2),\n",
       "             (('Mike Epps', 'John Witherspoon'), 2),\n",
       "             (('Mike Epps', 'Don Curry'), 2),\n",
       "             (('John Witherspoon', 'Don Curry'), 2),\n",
       "             (('Bruce Willis', 'Cole Hauser'), 2),\n",
       "             (('Chris Rock', 'Kerry Washington'), 2),\n",
       "             (('Jamie Foxx', 'Kerry Washington'), 2),\n",
       "             (('Bradley Cooper', 'Jennifer Lawrence'), 2),\n",
       "             (('John Leguizamo', 'Seann William Scott'), 2),\n",
       "             (('Ray Romano', 'Seann William Scott'), 2),\n",
       "             (('Denis Leary', 'Seann William Scott'), 2),\n",
       "             (('Tommy Lee Jones', 'Josh Brolin'), 2),\n",
       "             (('Kate Beckinsale', 'Bill Nighy'), 2),\n",
       "             (('Jason Biggs', 'Alyson Hannigan'), 2),\n",
       "             (('Alyson Hannigan', 'Seann William Scott'), 2),\n",
       "             (('Alyson Hannigan', 'Thomas Ian Nicholas'), 2),\n",
       "             (('Seann William Scott', 'Thomas Ian Nicholas'), 2),\n",
       "             (('Adam Sandler', 'David Spade'), 2),\n",
       "             (('Mark Wahlberg', 'Ben Foster'), 2),\n",
       "             (('Ben Stiller', 'Sacha Baron Cohen'), 2),\n",
       "             (('Joaquin Phoenix', 'Amy Adams'), 2),\n",
       "             (('Philip Seymour Hoffman', 'Amy Adams'), 2),\n",
       "             (('Leslie Mann', 'Jason Segel'), 2),\n",
       "             (('Richard Gere', 'Susan Sarandon'), 2),\n",
       "             (('Milla Jovovich', 'Sienna Guillory'), 2),\n",
       "             (('Kate Beckinsale', 'Scott Speedman'), 2),\n",
       "             (('Kate Beckinsale', 'Shane Brolly'), 2),\n",
       "             (('Scott Speedman', 'Shane Brolly'), 2),\n",
       "             (('Johnny Depp', 'Jack Davenport'), 2),\n",
       "             (('Orlando Bloom', 'Jack Davenport'), 2),\n",
       "             (('Keira Knightley', 'Jack Davenport'), 2),\n",
       "             (('Uma Thurman', 'Daryl Hannah'), 2),\n",
       "             (('Uma Thurman', 'David Carradine'), 2),\n",
       "             (('Keanu Reeves', 'Laurence Fishburne'), 2),\n",
       "             (('Keanu Reeves', 'Carrie-Anne Moss'), 2),\n",
       "             (('Keanu Reeves', 'Hugo Weaving'), 2),\n",
       "             (('Laurence Fishburne', 'Hugo Weaving'), 2),\n",
       "             (('Carrie-Anne Moss', 'Hugo Weaving'), 2),\n",
       "             (('Cameron Diaz', 'Drew Barrymore'), 2),\n",
       "             (('Cameron Diaz', 'Lucy Liu'), 2),\n",
       "             (('Ali Larter', 'Tony Todd'), 2),\n",
       "             (('Steve Martin', 'Bonnie Hunt'), 2),\n",
       "             (('Steve Martin', 'Tom Welling'), 2),\n",
       "             (('Bonnie Hunt', 'Tom Welling'), 2),\n",
       "             (('Jet Li', 'DMX'), 2),\n",
       "             (('George Clooney', 'Catherine Zeta-Jones'), 2),\n",
       "             (('Steve Martin', 'Eugene Levy'), 2),\n",
       "             (('Frankie Muniz', 'Cynthia Stevenson'), 2),\n",
       "             (('Patrick Stewart', 'Hugh Jackman'), 2),\n",
       "             (('Patrick Stewart', 'Halle Berry'), 2),\n",
       "             (('Ian McKellen', 'Halle Berry'), 2),\n",
       "             (('Guy Pearce', 'Ben Kingsley'), 2),\n",
       "             (('Vin Diesel', 'Karl Urban'), 2),\n",
       "             (('Denzel Washington', 'Paula Patton'), 2),\n",
       "             (('Matthew McConaughey', 'Steve Zahn'), 2),\n",
       "             (('Adam Sandler', 'Chris Rock'), 2),\n",
       "             (('Jonah Hill', 'Seth Rogen'), 2),\n",
       "             (('Will Ferrell', 'Steve Carell'), 2),\n",
       "             (('Will Ferrell', 'Paul Rudd'), 2),\n",
       "             (('Will Ferrell', 'Christina Applegate'), 2),\n",
       "             (('Will Ferrell', 'David Koechner'), 2),\n",
       "             (('Paul Rudd', 'David Koechner'), 2),\n",
       "             (('Christina Applegate', 'David Koechner'), 2),\n",
       "             (('Cate Blanchett', 'Alec Baldwin'), 2),\n",
       "             (('Christian Bale', 'Willem Dafoe'), 2),\n",
       "             (('Daniel Radcliffe', 'Michael Gambon'), 2),\n",
       "             (('Rupert Grint', 'Michael Gambon'), 2),\n",
       "             (('Emma Watson', 'Michael Gambon'), 2),\n",
       "             (('Johnny Depp', 'Freddie Highmore'), 2),\n",
       "             (('Ioan Gruffudd', 'Jessica Alba'), 2),\n",
       "             (('Ioan Gruffudd', 'Chris Evans'), 2),\n",
       "             (('Ioan Gruffudd', 'Michael Chiklis'), 2),\n",
       "             (('Ioan Gruffudd', 'Julian McMahon'), 2),\n",
       "             (('Jessica Alba', 'Chris Evans'), 2),\n",
       "             (('Jessica Alba', 'Michael Chiklis'), 2),\n",
       "             (('Jessica Alba', 'Julian McMahon'), 2),\n",
       "             (('Chris Evans', 'Michael Chiklis'), 2),\n",
       "             (('Chris Evans', 'Julian McMahon'), 2),\n",
       "             (('Michael Chiklis', 'Julian McMahon'), 2),\n",
       "             (('Jim Carrey', 'Richard Jenkins'), 2),\n",
       "             (('Joaquin Phoenix', 'Robert Patrick'), 2),\n",
       "             (('Orlando Bloom', 'Bill Nighy'), 2),\n",
       "             (('Keira Knightley', 'Bill Nighy'), 2),\n",
       "             (('Daniel Craig', 'Eva Green'), 2),\n",
       "             (('Daniel Craig', 'Jeffrey Wright'), 2),\n",
       "             (('Ian McKellen', 'Jean Reno'), 2),\n",
       "             (('Anna Faris', 'Regina Hall'), 2),\n",
       "             (('Martin Lawrence', 'Nia Long'), 2),\n",
       "             (('Adam Campbell', 'Jennifer Coolidge'), 2),\n",
       "             (('Matt Damon', 'Julia Stiles'), 2),\n",
       "             (('Nicolas Cage', 'Diane Kruger'), 2),\n",
       "             (('Nicolas Cage', 'Jon Voight'), 2),\n",
       "             (('Julie Andrews', 'Antonio Banderas'), 2),\n",
       "             (('Milla Jovovich', 'Oded Fehr'), 2),\n",
       "             (('Ben Stiller', 'Teri Polo'), 2),\n",
       "             (('Ben Stiller', 'Robert De Niro'), 2),\n",
       "             (('Michael Moore', 'George W. Bush'), 2),\n",
       "             (('Bruce Willis', 'Matthew Perry'), 2),\n",
       "             (('Matthew Perry', 'Kevin Pollak'), 2),\n",
       "             (('Jennifer Garner', 'Jason Bateman'), 2),\n",
       "             (('Nicole Kidman', 'Daniel Craig'), 2),\n",
       "             (('Chris Pratt', 'Bryce Dallas Howard'), 1),\n",
       "             (('Chris Pratt', 'Irrfan Khan'), 1),\n",
       "             (('Chris Pratt', \"Vincent D'Onofrio\"), 1),\n",
       "             (('Chris Pratt', 'Nick Robinson'), 1),\n",
       "             (('Bryce Dallas Howard', 'Irrfan Khan'), 1),\n",
       "             (('Bryce Dallas Howard', \"Vincent D'Onofrio\"), 1),\n",
       "             (('Bryce Dallas Howard', 'Nick Robinson'), 1),\n",
       "             (('Irrfan Khan', \"Vincent D'Onofrio\"), 1),\n",
       "             (('Irrfan Khan', 'Nick Robinson'), 1),\n",
       "             ((\"Vincent D'Onofrio\", 'Nick Robinson'), 1),\n",
       "             (('Tom Hardy', 'Charlize Theron'), 1),\n",
       "             (('Tom Hardy', 'Hugh Keays-Byrne'), 1),\n",
       "             (('Tom Hardy', 'Nicholas Hoult'), 1),\n",
       "             (('Tom Hardy', 'Josh Helman'), 1),\n",
       "             (('Charlize Theron', 'Hugh Keays-Byrne'), 1),\n",
       "             (('Charlize Theron', 'Nicholas Hoult'), 1),\n",
       "             (('Charlize Theron', 'Josh Helman'), 1),\n",
       "             (('Hugh Keays-Byrne', 'Nicholas Hoult'), 1),\n",
       "             (('Hugh Keays-Byrne', 'Josh Helman'), 1),\n",
       "             (('Nicholas Hoult', 'Josh Helman'), 1),\n",
       "             (('Theo James', 'Ansel Elgort'), 1),\n",
       "             (('Kate Winslet', 'Ansel Elgort'), 1),\n",
       "             (('Ansel Elgort', 'Miles Teller'), 1),\n",
       "             (('Harrison Ford', 'Mark Hamill'), 1),\n",
       "             (('Harrison Ford', 'Carrie Fisher'), 1),\n",
       "             (('Harrison Ford', 'Adam Driver'), 1),\n",
       "             (('Harrison Ford', 'Daisy Ridley'), 1),\n",
       "             (('Mark Hamill', 'Carrie Fisher'), 1),\n",
       "             (('Mark Hamill', 'Adam Driver'), 1),\n",
       "             (('Mark Hamill', 'Daisy Ridley'), 1),\n",
       "             (('Carrie Fisher', 'Adam Driver'), 1),\n",
       "             (('Carrie Fisher', 'Daisy Ridley'), 1),\n",
       "             (('Adam Driver', 'Daisy Ridley'), 1),\n",
       "             (('Vin Diesel', 'Jason Statham'), 1),\n",
       "             (('Paul Walker', 'Jason Statham'), 1),\n",
       "             (('Jason Statham', 'Michelle Rodriguez'), 1),\n",
       "             (('Jason Statham', 'Dwayne Johnson'), 1),\n",
       "             (('Michelle Rodriguez', 'Dwayne Johnson'), 1),\n",
       "             (('Leonardo DiCaprio', 'Will Poulter'), 1),\n",
       "             (('Leonardo DiCaprio', 'Domhnall Gleeson'), 1),\n",
       "             (('Leonardo DiCaprio', 'Paul Anderson'), 1),\n",
       "             (('Tom Hardy', 'Will Poulter'), 1),\n",
       "             (('Tom Hardy', 'Domhnall Gleeson'), 1),\n",
       "             (('Tom Hardy', 'Paul Anderson'), 1),\n",
       "             (('Will Poulter', 'Domhnall Gleeson'), 1),\n",
       "             (('Will Poulter', 'Paul Anderson'), 1),\n",
       "             (('Domhnall Gleeson', 'Paul Anderson'), 1),\n",
       "             (('Arnold Schwarzenegger', 'Jason Clarke'), 1),\n",
       "             (('Arnold Schwarzenegger', 'Emilia Clarke'), 1),\n",
       "             (('Arnold Schwarzenegger', 'Jai Courtney'), 1),\n",
       "             (('Arnold Schwarzenegger', 'J.K. Simmons'), 1),\n",
       "             (('Jason Clarke', 'Emilia Clarke'), 1),\n",
       "             (('Jason Clarke', 'Jai Courtney'), 1),\n",
       "             (('Jason Clarke', 'J.K. Simmons'), 1),\n",
       "             (('Emilia Clarke', 'Jai Courtney'), 1),\n",
       "             (('Emilia Clarke', 'J.K. Simmons'), 1),\n",
       "             (('Jai Courtney', 'J.K. Simmons'), 1),\n",
       "             (('Matt Damon', 'Jessica Chastain'), 1),\n",
       "             (('Matt Damon', 'Kristen Wiig'), 1),\n",
       "             (('Matt Damon', 'Jeff Daniels'), 1),\n",
       "             (('Matt Damon', 'Michael PeÃ±a'), 1),\n",
       "             (('Jessica Chastain', 'Kristen Wiig'), 1),\n",
       "             (('Jessica Chastain', 'Jeff Daniels'), 1),\n",
       "             (('Jessica Chastain', 'Michael PeÃ±a'), 1),\n",
       "             (('Kristen Wiig', 'Jeff Daniels'), 1),\n",
       "             (('Kristen Wiig', 'Michael PeÃ±a'), 1),\n",
       "             (('Jeff Daniels', 'Michael PeÃ±a'), 1),\n",
       "             (('Sandra Bullock', 'Jon Hamm'), 1),\n",
       "             (('Sandra Bullock', 'Michael Keaton'), 1),\n",
       "             (('Sandra Bullock', 'Allison Janney'), 1),\n",
       "             (('Sandra Bullock', 'Steve Coogan'), 1),\n",
       "             (('Jon Hamm', 'Michael Keaton'), 1),\n",
       "             (('Jon Hamm', 'Allison Janney'), 1),\n",
       "             (('Jon Hamm', 'Steve Coogan'), 1),\n",
       "             (('Michael Keaton', 'Allison Janney'), 1),\n",
       "             (('Michael Keaton', 'Steve Coogan'), 1),\n",
       "             (('Allison Janney', 'Steve Coogan'), 1),\n",
       "             (('Amy Poehler', 'Phyllis Smith'), 1),\n",
       "             (('Amy Poehler', 'Richard Kind'), 1),\n",
       "             (('Amy Poehler', 'Bill Hader'), 1),\n",
       "             (('Amy Poehler', 'Lewis Black'), 1),\n",
       "             (('Phyllis Smith', 'Richard Kind'), 1),\n",
       "             (('Phyllis Smith', 'Bill Hader'), 1),\n",
       "             (('Phyllis Smith', 'Lewis Black'), 1),\n",
       "             (('Richard Kind', 'Bill Hader'), 1),\n",
       "             (('Richard Kind', 'Lewis Black'), 1),\n",
       "             (('Bill Hader', 'Lewis Black'), 1),\n",
       "             (('Daniel Craig', 'Christoph Waltz'), 1),\n",
       "             (('Daniel Craig', 'LÃ©a Seydoux'), 1),\n",
       "             (('Daniel Craig', 'Monica Bellucci'), 1),\n",
       "             (('Christoph Waltz', 'LÃ©a Seydoux'), 1),\n",
       "             (('Christoph Waltz', 'Ralph Fiennes'), 1),\n",
       "             (('Christoph Waltz', 'Monica Bellucci'), 1),\n",
       "             (('LÃ©a Seydoux', 'Ralph Fiennes'), 1),\n",
       "             (('LÃ©a Seydoux', 'Monica Bellucci'), 1),\n",
       "             (('Ralph Fiennes', 'Monica Bellucci'), 1),\n",
       "             (('Mila Kunis', 'Channing Tatum'), 1),\n",
       "             (('Mila Kunis', 'Sean Bean'), 1),\n",
       "             (('Mila Kunis', 'Eddie Redmayne'), 1),\n",
       "             (('Mila Kunis', 'Douglas Booth'), 1),\n",
       "             (('Channing Tatum', 'Sean Bean'), 1),\n",
       "             (('Channing Tatum', 'Eddie Redmayne'), 1),\n",
       "             (('Channing Tatum', 'Douglas Booth'), 1),\n",
       "             (('Sean Bean', 'Eddie Redmayne'), 1),\n",
       "             (('Sean Bean', 'Douglas Booth'), 1),\n",
       "             (('Eddie Redmayne', 'Douglas Booth'), 1),\n",
       "             (('Domhnall Gleeson', 'Alicia Vikander'), 1),\n",
       "             (('Domhnall Gleeson', 'Oscar Isaac'), 1),\n",
       "             (('Domhnall Gleeson', 'Sonoya Mizuno'), 1),\n",
       "             (('Domhnall Gleeson', 'Corey Johnson'), 1),\n",
       "             (('Alicia Vikander', 'Oscar Isaac'), 1),\n",
       "             (('Alicia Vikander', 'Sonoya Mizuno'), 1),\n",
       "             (('Alicia Vikander', 'Corey Johnson'), 1),\n",
       "             (('Oscar Isaac', 'Sonoya Mizuno'), 1),\n",
       "             (('Oscar Isaac', 'Corey Johnson'), 1),\n",
       "             (('Sonoya Mizuno', 'Corey Johnson'), 1),\n",
       "             (('Adam Sandler', 'Michelle Monaghan'), 1),\n",
       "             (('Adam Sandler', 'Peter Dinklage'), 1),\n",
       "             (('Adam Sandler', 'Josh Gad'), 1),\n",
       "             (('Michelle Monaghan', 'Peter Dinklage'), 1),\n",
       "             (('Michelle Monaghan', 'Josh Gad'), 1),\n",
       "             (('Michelle Monaghan', 'Kevin James'), 1),\n",
       "             (('Peter Dinklage', 'Josh Gad'), 1),\n",
       "             (('Peter Dinklage', 'Kevin James'), 1),\n",
       "             (('Josh Gad', 'Kevin James'), 1),\n",
       "             (('Chris Hemsworth', 'Mark Ruffalo'), 1),\n",
       "             (('Chris Hemsworth', 'Chris Evans'), 1),\n",
       "             (('Mark Ruffalo', 'Chris Evans'), 1),\n",
       "             (('Samuel L. Jackson', 'Kurt Russell'), 1),\n",
       "             (('Samuel L. Jackson', 'Jennifer Jason Leigh'), 1),\n",
       "             (('Samuel L. Jackson', 'Walton Goggins'), 1),\n",
       "             (('Samuel L. Jackson', 'DemiÃ¡n Bichir'), 1),\n",
       "             (('Kurt Russell', 'Jennifer Jason Leigh'), 1),\n",
       "             (('Kurt Russell', 'Walton Goggins'), 1),\n",
       "             (('Kurt Russell', 'DemiÃ¡n Bichir'), 1),\n",
       "             (('Jennifer Jason Leigh', 'Walton Goggins'), 1),\n",
       "             (('Jennifer Jason Leigh', 'DemiÃ¡n Bichir'), 1),\n",
       "             (('Walton Goggins', 'DemiÃ¡n Bichir'), 1),\n",
       "             (('Liam Neeson', 'Forest Whitaker'), 1),\n",
       "             (('Liam Neeson', 'Dougray Scott'), 1),\n",
       "             (('Forest Whitaker', 'Maggie Grace'), 1),\n",
       "             (('Forest Whitaker', 'Famke Janssen'), 1),\n",
       "             (('Forest Whitaker', 'Dougray Scott'), 1),\n",
       "             (('Maggie Grace', 'Dougray Scott'), 1),\n",
       "             (('Famke Janssen', 'Dougray Scott'), 1),\n",
       "             (('Paul Rudd', 'Michael Douglas'), 1),\n",
       "             (('Paul Rudd', 'Evangeline Lilly'), 1),\n",
       "             (('Paul Rudd', 'Corey Stoll'), 1),\n",
       "             (('Paul Rudd', 'Bobby Cannavale'), 1),\n",
       "             (('Michael Douglas', 'Evangeline Lilly'), 1),\n",
       "             (('Michael Douglas', 'Corey Stoll'), 1),\n",
       "             (('Michael Douglas', 'Bobby Cannavale'), 1),\n",
       "             (('Evangeline Lilly', 'Corey Stoll'), 1),\n",
       "             (('Evangeline Lilly', 'Bobby Cannavale'), 1),\n",
       "             (('Corey Stoll', 'Bobby Cannavale'), 1),\n",
       "             (('Lily James', 'Cate Blanchett'), 1),\n",
       "             (('Lily James', 'Richard Madden'), 1),\n",
       "             (('Lily James', 'Helena Bonham Carter'), 1),\n",
       "             (('Lily James', 'Holliday Grainger'), 1),\n",
       "             (('Cate Blanchett', 'Richard Madden'), 1),\n",
       "             (('Cate Blanchett', 'Helena Bonham Carter'), 1),\n",
       "             (('Cate Blanchett', 'Holliday Grainger'), 1),\n",
       "             (('Richard Madden', 'Helena Bonham Carter'), 1),\n",
       "             (('Richard Madden', 'Holliday Grainger'), 1),\n",
       "             (('Helena Bonham Carter', 'Holliday Grainger'), 1),\n",
       "             (('Britt Robertson', 'George Clooney'), 1),\n",
       "             (('Britt Robertson', 'Raffey Cassidy'), 1),\n",
       "             (('Britt Robertson', 'Thomas Robinson'), 1),\n",
       "             (('Britt Robertson', 'Hugh Laurie'), 1),\n",
       "             (('George Clooney', 'Raffey Cassidy'), 1),\n",
       "             (('George Clooney', 'Thomas Robinson'), 1),\n",
       "             (('George Clooney', 'Hugh Laurie'), 1),\n",
       "             (('Raffey Cassidy', 'Thomas Robinson'), 1),\n",
       "             (('Raffey Cassidy', 'Hugh Laurie'), 1),\n",
       "             (('Thomas Robinson', 'Hugh Laurie'), 1),\n",
       "             (('Jake Gyllenhaal', 'Rachel McAdams'), 1),\n",
       "             (('Jake Gyllenhaal', 'Forest Whitaker'), 1),\n",
       "             (('Jake Gyllenhaal', 'Oona Laurence'), 1),\n",
       "             (('Jake Gyllenhaal', '50 Cent'), 1),\n",
       "             (('Rachel McAdams', 'Forest Whitaker'), 1),\n",
       "             (('Rachel McAdams', 'Oona Laurence'), 1),\n",
       "             (('Rachel McAdams', '50 Cent'), 1),\n",
       "             (('Forest Whitaker', 'Oona Laurence'), 1),\n",
       "             (('Forest Whitaker', '50 Cent'), 1),\n",
       "             (('Oona Laurence', '50 Cent'), 1),\n",
       "             (('Dwayne Johnson', 'Alexandra Daddario'), 1),\n",
       "             (('Dwayne Johnson', 'Ioan Gruffudd'), 1),\n",
       "             (('Dwayne Johnson', 'Archie Panjabi'), 1),\n",
       "             (('Alexandra Daddario', 'Carla Gugino'), 1),\n",
       "             (('Alexandra Daddario', 'Ioan Gruffudd'), 1),\n",
       "             (('Alexandra Daddario', 'Archie Panjabi'), 1),\n",
       "             (('Carla Gugino', 'Ioan Gruffudd'), 1),\n",
       "             (('Carla Gugino', 'Archie Panjabi'), 1),\n",
       "             (('Ioan Gruffudd', 'Archie Panjabi'), 1),\n",
       "             (('Dakota Johnson', 'Jamie Dornan'), 1),\n",
       "             (('Dakota Johnson', 'Jennifer Ehle'), 1),\n",
       "             (('Dakota Johnson', 'Eloise Mumford'), 1),\n",
       "             (('Dakota Johnson', 'Victor Rasuk'), 1),\n",
       "             (('Jamie Dornan', 'Jennifer Ehle'), 1),\n",
       "             (('Jamie Dornan', 'Eloise Mumford'), 1),\n",
       "             (('Jamie Dornan', 'Victor Rasuk'), 1),\n",
       "             (('Jennifer Ehle', 'Eloise Mumford'), 1),\n",
       "             (('Jennifer Ehle', 'Victor Rasuk'), 1),\n",
       "             (('Eloise Mumford', 'Victor Rasuk'), 1),\n",
       "             (('Christian Bale', 'Steve Carell'), 1),\n",
       "             (('Christian Bale', 'Ryan Gosling'), 1),\n",
       "             (('Christian Bale', 'Brad Pitt'), 1),\n",
       "             (('Steve Carell', 'Brad Pitt'), 1),\n",
       "             (('Steve Carell', 'Melissa Leo'), 1),\n",
       "             (('Ryan Gosling', 'Brad Pitt'), 1),\n",
       "             (('Ryan Gosling', 'Melissa Leo'), 1),\n",
       "             (('Brad Pitt', 'Melissa Leo'), 1),\n",
       "             (('Tom Cruise', 'Rebecca Ferguson'), 1),\n",
       "             (('Jeremy Renner', 'Rebecca Ferguson'), 1),\n",
       "             (('Jeremy Renner', 'Ving Rhames'), 1),\n",
       "             (('Simon Pegg', 'Rebecca Ferguson'), 1),\n",
       "             (('Simon Pegg', 'Ving Rhames'), 1),\n",
       "             (('Rebecca Ferguson', 'Ving Rhames'), 1),\n",
       "             (('Mark Wahlberg', 'Amanda Seyfried'), 1),\n",
       "             (('Mark Wahlberg', 'Jessica Barth'), 1),\n",
       "             (('Seth MacFarlane', 'Amanda Seyfried'), 1),\n",
       "             (('Seth MacFarlane', 'Jessica Barth'), 1),\n",
       "             (('Amanda Seyfried', 'Jessica Barth'), 1),\n",
       "             (('Amanda Seyfried', 'Giovanni Ribisi'), 1),\n",
       "             (('Jessica Barth', 'Giovanni Ribisi'), 1),\n",
       "             (('Taron Egerton', 'Colin Firth'), 1),\n",
       "             (('Taron Egerton', 'Samuel L. Jackson'), 1),\n",
       "             (('Taron Egerton', 'Michael Caine'), 1),\n",
       "             (('Taron Egerton', 'Mark Strong'), 1),\n",
       "             (('Colin Firth', 'Samuel L. Jackson'), 1),\n",
       "             (('Colin Firth', 'Michael Caine'), 1),\n",
       "             (('Colin Firth', 'Mark Strong'), 1),\n",
       "             (('Samuel L. Jackson', 'Michael Caine'), 1),\n",
       "             (('Samuel L. Jackson', 'Mark Strong'), 1),\n",
       "             (('Michael Caine', 'Mark Strong'), 1),\n",
       "             (('Mark Ruffalo', 'Michael Keaton'), 1),\n",
       "             (('Mark Ruffalo', 'Rachel McAdams'), 1),\n",
       "             (('Mark Ruffalo', 'Liev Schreiber'), 1),\n",
       "             (('Mark Ruffalo', 'John Slattery'), 1),\n",
       "             (('Michael Keaton', 'Rachel McAdams'), 1),\n",
       "             (('Michael Keaton', 'Liev Schreiber'), 1),\n",
       "             (('Michael Keaton', 'John Slattery'), 1),\n",
       "             (('Rachel McAdams', 'Liev Schreiber'), 1),\n",
       "             (('Rachel McAdams', 'John Slattery'), 1),\n",
       "             (('Liev Schreiber', 'John Slattery'), 1),\n",
       "             ((\"Dylan O'Brien\", 'Thomas Brodie-Sangster'), 1),\n",
       "             ((\"Dylan O'Brien\", 'Giancarlo Esposito'), 1),\n",
       "             ((\"Dylan O'Brien\", 'Aidan Gillen'), 1),\n",
       "             (('Kaya Scodelario', 'Thomas Brodie-Sangster'), 1),\n",
       "             (('Kaya Scodelario', 'Giancarlo Esposito'), 1),\n",
       "             (('Kaya Scodelario', 'Aidan Gillen'), 1),\n",
       "             (('Thomas Brodie-Sangster', 'Giancarlo Esposito'), 1),\n",
       "             (('Thomas Brodie-Sangster', 'Aidan Gillen'), 1),\n",
       "             (('Giancarlo Esposito', 'Aidan Gillen'), 1),\n",
       "             (('Sharlto Copley', 'Dev Patel'), 1),\n",
       "             (('Sharlto Copley', 'Ninja'), 1),\n",
       "             (('Sharlto Copley', 'Yolandi Visser'), 1),\n",
       "             (('Sharlto Copley', 'Jose Pablo Cantillo'), 1),\n",
       "             (('Dev Patel', 'Ninja'), 1),\n",
       "             (('Dev Patel', 'Yolandi Visser'), 1),\n",
       "             (('Dev Patel', 'Jose Pablo Cantillo'), 1),\n",
       "             (('Ninja', 'Yolandi Visser'), 1),\n",
       "             (('Ninja', 'Jose Pablo Cantillo'), 1),\n",
       "             (('Yolandi Visser', 'Jose Pablo Cantillo'), 1),\n",
       "             (('Anna Kendrick', 'Hailee Steinfeld'), 1),\n",
       "             (('Rebel Wilson', 'Hailee Steinfeld'), 1),\n",
       "             (('Rebel Wilson', 'Brittany Snow'), 1),\n",
       "             (('Rebel Wilson', 'Skylar Astin'), 1),\n",
       "             (('Hailee Steinfeld', 'Brittany Snow'), 1),\n",
       "             (('Hailee Steinfeld', 'Skylar Astin'), 1),\n",
       "             (('Brittany Snow', 'Skylar Astin'), 1),\n",
       "             (('Tom Hanks', 'Mark Rylance'), 1),\n",
       "             (('Tom Hanks', 'Amy Ryan'), 1),\n",
       "             (('Tom Hanks', 'Alan Alda'), 1),\n",
       "             (('Tom Hanks', 'Sebastian Koch'), 1),\n",
       "             (('Mark Rylance', 'Amy Ryan'), 1),\n",
       "             (('Mark Rylance', 'Alan Alda'), 1),\n",
       "             (('Mark Rylance', 'Sebastian Koch'), 1),\n",
       "             (('Amy Ryan', 'Alan Alda'), 1),\n",
       "             (('Amy Ryan', 'Sebastian Koch'), 1),\n",
       "             (('Alan Alda', 'Sebastian Koch'), 1),\n",
       "             (('Jack Black', 'Dylan Minnette'), 1),\n",
       "             (('Jack Black', 'Odeya Rush'), 1),\n",
       "             (('Jack Black', 'Amy Ryan'), 1),\n",
       "             (('Jack Black', 'Jillian Bell'), 1),\n",
       "             (('Dylan Minnette', 'Odeya Rush'), 1),\n",
       "             (('Dylan Minnette', 'Amy Ryan'), 1),\n",
       "             (('Dylan Minnette', 'Jillian Bell'), 1),\n",
       "             (('Odeya Rush', 'Amy Ryan'), 1),\n",
       "             (('Odeya Rush', 'Jillian Bell'), 1),\n",
       "             (('Amy Ryan', 'Jillian Bell'), 1),\n",
       "             (('Brie Larson', 'Jacob Tremblay'), 1),\n",
       "             (('Brie Larson', 'Joan Allen'), 1),\n",
       "             (('Brie Larson', 'Sean Bridgers'), 1),\n",
       "             (('Brie Larson', 'William H. Macy'), 1),\n",
       "             (('Jacob Tremblay', 'Joan Allen'), 1),\n",
       "             (('Jacob Tremblay', 'Sean Bridgers'), 1),\n",
       "             (('Jacob Tremblay', 'William H. Macy'), 1),\n",
       "             (('Joan Allen', 'Sean Bridgers'), 1),\n",
       "             (('Joan Allen', 'William H. Macy'), 1),\n",
       "             (('Sean Bridgers', 'William H. Macy'), 1),\n",
       "             (('Raymond Ochoa', 'Jack Bright'), 1),\n",
       "             (('Raymond Ochoa', 'Jeffrey Wright'), 1),\n",
       "             (('Raymond Ochoa', 'Frances McDormand'), 1),\n",
       "             (('Raymond Ochoa', 'Maleah Nipay-Padilla'), 1),\n",
       "             (('Jack Bright', 'Jeffrey Wright'), 1),\n",
       "             (('Jack Bright', 'Frances McDormand'), 1),\n",
       "             (('Jack Bright', 'Maleah Nipay-Padilla'), 1),\n",
       "             (('Jeffrey Wright', 'Frances McDormand'), 1),\n",
       "             (('Jeffrey Wright', 'Maleah Nipay-Padilla'), 1),\n",
       "             (('Frances McDormand', 'Maleah Nipay-Padilla'), 1),\n",
       "             (('Liam Neeson', 'Ed Harris'), 1),\n",
       "             (('Liam Neeson', 'Joel Kinnaman'), 1),\n",
       "             (('Liam Neeson', 'Bruce McGill'), 1),\n",
       "             (('Ed Harris', 'Joel Kinnaman'), 1),\n",
       "             (('Ed Harris', 'Boyd Holbrook'), 1),\n",
       "             (('Ed Harris', 'Bruce McGill'), 1),\n",
       "             (('Joel Kinnaman', 'Boyd Holbrook'), 1),\n",
       "             (('Joel Kinnaman', 'Bruce McGill'), 1),\n",
       "             (('Boyd Holbrook', 'Bruce McGill'), 1),\n",
       "             (('Saoirse Ronan', 'Domhnall Gleeson'), 1),\n",
       "             (('Saoirse Ronan', 'Emory Cohen'), 1),\n",
       "             (('Saoirse Ronan', 'Emily Bett Rickards'), 1),\n",
       "             (('Saoirse Ronan', \"Eileen O'Higgins\"), 1),\n",
       "             (('Domhnall Gleeson', 'Emory Cohen'), 1),\n",
       "             (('Domhnall Gleeson', 'Emily Bett Rickards'), 1),\n",
       "             (('Domhnall Gleeson', \"Eileen O'Higgins\"), 1),\n",
       "             (('Emory Cohen', 'Emily Bett Rickards'), 1),\n",
       "             (('Emory Cohen', \"Eileen O'Higgins\"), 1),\n",
       "             (('Emily Bett Rickards', \"Eileen O'Higgins\"), 1),\n",
       "             ((\"O'Shea Jackson Jr.\", 'Corey Hawkins'), 1),\n",
       "             ((\"O'Shea Jackson Jr.\", 'Jason Mitchell'), 1),\n",
       "             ((\"O'Shea Jackson Jr.\", 'Neil Brown Jr.'), 1),\n",
       "             ((\"O'Shea Jackson Jr.\", 'Aldis Hodge'), 1),\n",
       "             (('Corey Hawkins', 'Jason Mitchell'), 1),\n",
       "             (('Corey Hawkins', 'Neil Brown Jr.'), 1),\n",
       "             (('Corey Hawkins', 'Aldis Hodge'), 1),\n",
       "             (('Jason Mitchell', 'Neil Brown Jr.'), 1),\n",
       "             (('Jason Mitchell', 'Aldis Hodge'), 1),\n",
       "             (('Neil Brown Jr.', 'Aldis Hodge'), 1),\n",
       "             (('Vin Diesel', 'Rose Leslie'), 1),\n",
       "             (('Vin Diesel', 'Michael Caine'), 1),\n",
       "             (('Vin Diesel', 'Elijah Wood'), 1),\n",
       "             (('Vin Diesel', 'Ã“lafur Darri Ã“lafsson'), 1),\n",
       "             (('Rose Leslie', 'Michael Caine'), 1),\n",
       "             (('Rose Leslie', 'Elijah Wood'), 1),\n",
       "             (('Rose Leslie', 'Ã“lafur Darri Ã“lafsson'), 1),\n",
       "             (('Michael Caine', 'Elijah Wood'), 1),\n",
       "             (('Michael Caine', 'Ã“lafur Darri Ã“lafsson'), 1),\n",
       "             (('Elijah Wood', 'Ã“lafur Darri Ã“lafsson'), 1),\n",
       "             (('Henry Cavill', 'Armie Hammer'), 1),\n",
       "             (('Henry Cavill', 'Alicia Vikander'), 1),\n",
       "             (('Henry Cavill', 'Elizabeth Debicki'), 1),\n",
       "             (('Henry Cavill', 'Luca Calvani'), 1),\n",
       "             (('Armie Hammer', 'Alicia Vikander'), 1),\n",
       "             (('Armie Hammer', 'Elizabeth Debicki'), 1),\n",
       "             (('Armie Hammer', 'Luca Calvani'), 1),\n",
       "             (('Alicia Vikander', 'Elizabeth Debicki'), 1),\n",
       "             (('Alicia Vikander', 'Luca Calvani'), 1),\n",
       "             (('Elizabeth Debicki', 'Luca Calvani'), 1),\n",
       "             (('Blake Lively', 'Michiel Huisman'), 1),\n",
       "             (('Blake Lively', 'Harrison Ford'), 1),\n",
       "             (('Blake Lively', 'Ellen Burstyn'), 1),\n",
       "             (('Blake Lively', 'Kathy Baker'), 1),\n",
       "             (('Michiel Huisman', 'Harrison Ford'), 1),\n",
       "             (('Michiel Huisman', 'Ellen Burstyn'), 1),\n",
       "             (('Michiel Huisman', 'Kathy Baker'), 1),\n",
       "             (('Harrison Ford', 'Ellen Burstyn'), 1),\n",
       "             (('Harrison Ford', 'Kathy Baker'), 1),\n",
       "             (('Ellen Burstyn', 'Kathy Baker'), 1),\n",
       "             (('Sharlto Copley', 'Haley Bennett'), 1),\n",
       "             (('Sharlto Copley', 'Danila Kozlovskiy'), 1),\n",
       "             (('Sharlto Copley', 'Tim Roth'), 1),\n",
       "             (('Sharlto Copley', 'Andrei Dementiev'), 1),\n",
       "             (('Haley Bennett', 'Danila Kozlovskiy'), 1),\n",
       "             (('Haley Bennett', 'Tim Roth'), 1),\n",
       "             (('Haley Bennett', 'Andrei Dementiev'), 1),\n",
       "             (('Danila Kozlovskiy', 'Tim Roth'), 1),\n",
       "             (('Danila Kozlovskiy', 'Andrei Dementiev'), 1),\n",
       "             (('Tim Roth', 'Andrei Dementiev'), 1),\n",
       "             (('Jim Parsons', 'Rihanna'), 1),\n",
       "             (('Jim Parsons', 'Steve Martin'), 1),\n",
       "             (('Jim Parsons', 'Jennifer Lopez'), 1),\n",
       "             (('Jim Parsons', 'Matt Jones'), 1),\n",
       "             (('Rihanna', 'Steve Martin'), 1),\n",
       "             (('Rihanna', 'Jennifer Lopez'), 1),\n",
       "             (('Rihanna', 'Matt Jones'), 1),\n",
       "             (('Steve Martin', 'Jennifer Lopez'), 1),\n",
       "             (('Steve Martin', 'Matt Jones'), 1),\n",
       "             (('Jennifer Lopez', 'Matt Jones'), 1),\n",
       "             (('Nat Wolff', 'Cara Delevingne'), 1),\n",
       "             (('Nat Wolff', 'Halston Sage'), 1),\n",
       "             (('Nat Wolff', 'Justice Smith'), 1),\n",
       "             (('Nat Wolff', 'Austin Abrams'), 1),\n",
       "             (('Cara Delevingne', 'Halston Sage'), 1),\n",
       "             (('Cara Delevingne', 'Justice Smith'), 1),\n",
       "             (('Cara Delevingne', 'Austin Abrams'), 1),\n",
       "             (('Halston Sage', 'Justice Smith'), 1),\n",
       "             (('Halston Sage', 'Austin Abrams'), 1),\n",
       "             (('Justice Smith', 'Austin Abrams'), 1),\n",
       "             (('Cate Blanchett', 'Rooney Mara'), 1),\n",
       "             (('Cate Blanchett', 'Kyle Chandler'), 1),\n",
       "             (('Cate Blanchett', 'Sarah Paulson'), 1),\n",
       "             (('Cate Blanchett', 'Jake Lacy'), 1),\n",
       "             (('Rooney Mara', 'Kyle Chandler'), 1),\n",
       "             (('Rooney Mara', 'Sarah Paulson'), 1),\n",
       "             (('Rooney Mara', 'Jake Lacy'), 1),\n",
       "             (('Kyle Chandler', 'Sarah Paulson'), 1),\n",
       "             (('Kyle Chandler', 'Jake Lacy'), 1),\n",
       "             (('Sarah Paulson', 'Jake Lacy'), 1),\n",
       "             (('Robert De Niro', 'Anne Hathaway'), 1),\n",
       "             (('Robert De Niro', 'Rene Russo'), 1),\n",
       "             (('Robert De Niro', 'Anders Holm'), 1),\n",
       "             (('Robert De Niro', 'JoJo Kushner'), 1),\n",
       "             (('Anne Hathaway', 'Rene Russo'), 1),\n",
       "             (('Anne Hathaway', 'Anders Holm'), 1),\n",
       "             (('Anne Hathaway', 'JoJo Kushner'), 1),\n",
       "             (('Rene Russo', 'Anders Holm'), 1),\n",
       "             (('Rene Russo', 'JoJo Kushner'), 1),\n",
       "             (('Anders Holm', 'JoJo Kushner'), 1),\n",
       "             (('Jason Clarke', 'Jake Gyllenhaal'), 1),\n",
       "             (('Jason Clarke', 'Josh Brolin'), 1),\n",
       "             (('Jason Clarke', 'John Hawkes'), 1),\n",
       "             (('Jason Clarke', 'Sam Worthington'), 1),\n",
       "             (('Jake Gyllenhaal', 'Josh Brolin'), 1),\n",
       "             (('Jake Gyllenhaal', 'John Hawkes'), 1),\n",
       "             (('Jake Gyllenhaal', 'Sam Worthington'), 1),\n",
       "             (('Josh Brolin', 'John Hawkes'), 1),\n",
       "             (('Josh Brolin', 'Sam Worthington'), 1),\n",
       "             ...])"
      ]
     },
     "execution_count": 39,
     "metadata": {},
     "output_type": "execute_result"
    }
   ],
   "source": [
    "#+\n",
    "import pandas as pd\n",
    "from collections import Counter\n",
    "from itertools import combinations\n",
    "from collections import OrderedDict\n",
    "\n",
    "data = pd.read_csv('movie_bd_v5.csv')\n",
    "\n",
    "data['cast'] = data['cast'].str.split('|')\n",
    "\n",
    "pairs_cast = Counter()\n",
    "for row in range(len(data)):\n",
    "    pairs_cast.update((combinations(data.loc[row]['cast'], 2)))\n",
    "    \n",
    "sorted_pairs = OrderedDict(sorted(pairs_cast.items(), key=lambda x: -x[1]))\n",
    "sorted_pairs"
   ]
  },
  {
   "cell_type": "code",
   "execution_count": 108,
   "metadata": {},
   "outputs": [],
   "source": [
    "answers['27'] = [(('Daniel Radcliffe', 'Rupert Grint'), 8),\n",
    "             (('Daniel Radcliffe', 'Emma Watson'), 8)]"
   ]
  },
  {
   "cell_type": "markdown",
   "metadata": {
    "colab_type": "text",
    "id": "U0nONFnGVqAX"
   },
   "source": [
    "# Submission"
   ]
  },
  {
   "cell_type": "code",
   "execution_count": 115,
   "metadata": {
    "colab": {},
    "colab_type": "code",
    "id": "IfcaRO9-VqAX",
    "outputId": "0f132912-32bb-4196-c98c-abfbc4ad5a5f"
   },
   "outputs": [
    {
     "data": {
      "text/plain": [
       "{'12': 'Drama',\n",
       " '1': '723. Pirates of the Caribbean: On Stranger Tides (tt1298650)',\n",
       " '2': '1157. Gods and Generals (tt0279111)',\n",
       " '3': '768. Winnie the Pooh (tt1449283)',\n",
       " '4': '109.6585494970884',\n",
       " '5': '107.0',\n",
       " '6': '239. Avatar (tt0499549)',\n",
       " '7': '1245. The Lone Ranger (tt1210819)',\n",
       " '8': '1478',\n",
       " '9': '599. The Dark Knight (tt0468569)',\n",
       " '10': '1245. The Lone Ranger (tt1210819)',\n",
       " '14': 'Robert Rodriguez',\n",
       " '15': 'Robert Downey Jr., Chris Evans, Mark Ruffalo, Chris Hemsworth, Scarlett Johansson',\n",
       " '16': 'Matt Damon',\n",
       " '17': 'Action',\n",
       " '18': 'K-19: The Widowmaker (tt0267626)',\n",
       " '19': '2015',\n",
       " '20': '2014',\n",
       " '11': 'Drama',\n",
       " '13': 'Peter Jackson',\n",
       " '21': '9',\n",
       " '22': '450',\n",
       " '27': [(('Daniel Radcliffe', 'Rupert Grint'), 8),\n",
       "  (('Daniel Radcliffe', 'Emma Watson'), 8)],\n",
       " '23': 'Peter Jackson',\n",
       " '24': 'Four By Two Productions',\n",
       " '25': 'Midnight Picture Show',\n",
       " '26': ('Inside Out',\n",
       "  'Room',\n",
       "  'Interstellar',\n",
       "  'Guardians of the Galaxy',\n",
       "  'The Imitation Game',\n",
       "  'Gone Girl',\n",
       "  'The Grand Budapest Hotel',\n",
       "  'Inception',\n",
       "  'The Dark Knight',\n",
       "  'The Pianist',\n",
       "  'The Lord of the Rings: The Return of the King',\n",
       "  'The Wolf of Wall Street',\n",
       "  '12 Years a Slave',\n",
       "  'Memento')}"
      ]
     },
     "execution_count": 115,
     "metadata": {},
     "output_type": "execute_result"
    }
   ],
   "source": [
    "# в конце можно посмотреть свои ответы к каждому вопросу\n",
    "answers"
   ]
  },
  {
   "cell_type": "code",
   "execution_count": 116,
   "metadata": {
    "colab": {},
    "colab_type": "code",
    "id": "SiRmHPl8VqAd"
   },
   "outputs": [
    {
     "data": {
      "text/plain": [
       "27"
      ]
     },
     "execution_count": 116,
     "metadata": {},
     "output_type": "execute_result"
    }
   ],
   "source": [
    "# и убедиться что ни чего не пропустил)\n",
    "len(answers)"
   ]
  },
  {
   "cell_type": "code",
   "execution_count": 0,
   "metadata": {
    "colab": {},
    "colab_type": "code",
    "id": "uCfuTkRbVqAg"
   },
   "outputs": [],
   "source": []
  },
  {
   "cell_type": "code",
   "execution_count": 0,
   "metadata": {
    "colab": {},
    "colab_type": "code",
    "id": "Vwx3NrkSVqAl"
   },
   "outputs": [],
   "source": []
  }
 ],
 "metadata": {
  "colab": {
   "name": "Copy of [SF-DST] Movies IMBD v4.1 TEMPLATE.ipynb",
   "provenance": []
  },
  "kernelspec": {
   "display_name": "Python 3",
   "language": "python",
   "name": "python3"
  },
  "language_info": {
   "codemirror_mode": {
    "name": "ipython",
    "version": 3
   },
   "file_extension": ".py",
   "mimetype": "text/x-python",
   "name": "python",
   "nbconvert_exporter": "python",
   "pygments_lexer": "ipython3",
   "version": "3.7.6"
  }
 },
 "nbformat": 4,
 "nbformat_minor": 1
}
